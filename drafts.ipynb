{
 "cells": [
  {
   "cell_type": "code",
   "execution_count": null,
   "metadata": {},
   "outputs": [],
   "source": [
    "import semantics as sem\n",
    "import data_model as dm\n",
    "import analyze_poem as ap\n",
    "from pprint import pprint"
   ]
  },
  {
   "cell_type": "code",
   "execution_count": 9,
   "metadata": {},
   "outputs": [],
   "source": [
    "pm = dm.read_data_model(\"poems_model.dat\")"
   ]
  },
  {
   "cell_type": "code",
   "execution_count": 15,
   "metadata": {},
   "outputs": [],
   "source": [
    "bags = pm['bags']\n",
    "for i, bag in enumerate(bags):\n",
    "    if len(bag) < 2:\n",
    "        print(bag)\n",
    "        print(pm['poems'][i] + '\\n')"
   ]
  },
  {
   "cell_type": "code",
   "execution_count": 14,
   "metadata": {},
   "outputs": [
    {
     "data": {
      "text/plain": [
       "7509"
      ]
     },
     "execution_count": 14,
     "output_type": "execute_result",
     "metadata": {}
    }
   ],
   "source": [
    "len(bags)"
   ]
  },
  {
   "cell_type": "code",
   "execution_count": null,
   "metadata": {},
   "outputs": [],
   "source": [
    "import csv\n",
    "lines = list(csv.reader(open(\"C:/temp/content.csv\", encoding=\"utf-8\")))\n",
    "poems = [[r[1], r[-2]] for r in lines]\n",
    "with open(\"poems.csv\", \"w\", newline='', encoding=\"utf-8\") as write_file:\n",
    "    writer=csv.writer(write_file)\n",
    "    writer.writerows(poems)"
   ]
  },
  {
   "cell_type": "code",
   "execution_count": null,
   "metadata": {},
   "outputs": [],
   "source": [
    "import csv\n",
    "lines = list(csv.reader(open(\"poems.csv\", encoding=\"utf-8\")))\n",
    "poems = [row[0].replace(\"<br>\", \"\\n\") for row in lines]\n",
    "f_out = open(\"poems_55000.txt\", mode='w', encoding='utf-8')\n",
    "for poem in poems:\n",
    "    f_out.write(poem + '\\n')\n",
    "f_out.close()"
   ]
  }
 ],
 "metadata": {},
 "nbformat": 4,
 "nbformat_minor": 0
}