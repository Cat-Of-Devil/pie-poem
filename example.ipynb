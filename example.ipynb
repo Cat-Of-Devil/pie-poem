{
 "cells": [
  {
   "cell_type": "code",
   "execution_count": 2,
   "metadata": {},
   "outputs": [],
   "source": [
    "import semantics as sem\n",
    "import data_model as dm\n",
    "from analyze_poem import *"
   ]
  },
  {
   "cell_type": "markdown",
   "metadata": {},
   "source": [
    "Загрузка word2vec модели (скачивал отсюда: http://ling.go.mail.ru/dsm/ru/about#models)"
   ]
  },
  {
   "cell_type": "code",
   "execution_count": 5,
   "metadata": {},
   "outputs": [
    {
     "name": "stdout",
     "output_type": "stream",
     "text": [
      "word2vec model 'c:/temp/data/ruscorpora.model.bin.gz' loaded\n"
     ]
    }
   ],
   "source": [
    "w2v = sem.load_w2v_model(\"c:/temp/data/ruscorpora.model.bin.gz\")"
   ]
  },
  {
   "cell_type": "markdown",
   "metadata": {},
   "source": [
    "Загрузка пирожковой модели"
   ]
  },
  {
   "cell_type": "code",
   "execution_count": 4,
   "metadata": {},
   "outputs": [],
   "source": [
    "pm = dm.read_data_model(\"poems_model.dat\")\n"
   ]
  },
  {
   "cell_type": "markdown",
   "metadata": {},
   "source": [
    "Запрос по слову \"метель\""
   ]
  },
  {
   "cell_type": "code",
   "execution_count": 12,
   "metadata": {},
   "outputs": [
    {
     "name": "stdout",
     "output_type": "stream",
     "text": [
      "[('и я явление природы\\n'\n  'я шел как дождь упал как снег\\n'\n  'полз как туман и выл как вьюга\\n'\n  'и словно буря небо крыл\\n',\n  0.29709908866576984),\n ('несется ветер по бульвару\\n'\n  'шурша осеннею листвой\\n'\n  'и вдруг находит сторублевку\\n'\n  'и дует в сторону ларька \\n',\n  0.17398924717380962),\n ('а с неба падают снежинки \\n'\n  'при тусклом свете фонарей \\n'\n  'мороз узором красит окна \\n'\n  'прекрастна русская весна\\n',\n  0.17179080585813006),\n ('внутри осеннего унынья \\n'\n  'среди предзимней тишины \\n'\n  'пунктирный скрип качелей старых \\n'\n  'и рыжий детский полусмех\\n',\n  0.14339323156540426),\n ('аркадий выпил растворитель\\n'\n  'и вышел в утренний туман\\n'\n  'и растворился без остатка\\n'\n  'во мраке улиц городских\\n',\n  0.13730946373338429)]\n"
     ]
    }
   ],
   "source": [
    "pprint(similar_poems(\"метель\", pm, w2v, topn=5))"
   ]
  },
  {
   "cell_type": "code",
   "execution_count": null,
   "metadata": {},
   "outputs": [],
   "source": [
    ""
   ]
  }
 ],
 "metadata": {},
 "nbformat": 4,
 "nbformat_minor": 0
}