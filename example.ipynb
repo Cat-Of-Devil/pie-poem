{
 "cells": [
  {
   "cell_type": "code",
   "execution_count": null,
   "metadata": {},
   "outputs": [],
   "source": [
    "from analyze_poem import *"
   ]
  },
  {
   "cell_type": "code",
   "execution_count": null,
   "metadata": {},
   "outputs": [],
   "source": [
    "w2v = sem.load_w2v_model(\"c:/temp/data/ruscorpora.model.bin.gz\")"
   ]
  },
  {
   "cell_type": "code",
   "execution_count": 10,
   "metadata": {},
   "outputs": [],
   "source": [
    "pm = dm.read_data_model(\"poems_model.dat\")"
   ]
  },
  {
   "cell_type": "code",
   "execution_count": 15,
   "metadata": {},
   "outputs": [
    {
     "name": "stdout",
     "output_type": "stream",
     "text": [
      "[('вчера из космоса получен\\n'\n  'сигнал с вопросом а вы кто\\n'\n  'мы отвечали что мы люди\\n'\n  'и был ответ да мы не вам\\n',\n  0.11010143945226453),\n ('в москву посылку я отправил\\n'\n  'а в ней немного доброты\\n'\n  'и человечности немного\\n'\n  'в москве открыли это што\\n',\n  0.092758471807950701),\n ('из ложных умозаключений \\n'\n  'мы можем истину сложить \\n'\n  'примерно как перемножают \\n'\n  'два отрицательных числа\\n',\n  0.076386565745891061),\n ('на почте холодно и письма \\n'\n  'в конвертах тоненьких дрожат \\n'\n  'друг друга тёплыми словами \\n'\n  'чуть чуть пытаются согреть\\n',\n  0.075515605458025173),\n ('вы нас достать просили узи\\n'\n  'а мы доставили узи\\n'\n  'с отсутствием нормальной связи\\n'\n  'в связи\\n',\n  0.072817591954880356)]\n"
     ]
    }
   ],
   "source": [
    "pprint(similar_poems(\"\", pm, w2v))"
   ]
  },
  {
   "cell_type": "code",
   "execution_count": null,
   "metadata": {},
   "outputs": [],
   "source": [
    ""
   ]
  }
 ],
 "metadata": {},
 "nbformat": 4,
 "nbformat_minor": 0
}