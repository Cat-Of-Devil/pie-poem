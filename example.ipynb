{
 "cells": [
  {
   "cell_type": "markdown",
   "metadata": {},
   "source": [
    "Необходимы [pymorphy2](https://pymorphy2.readthedocs.org/en/latest/) и [gensim](https://radimrehurek.com/gensim/)"
   ]
  },
  {
   "cell_type": "code",
   "execution_count": 1,
   "metadata": {},
   "outputs": [],
   "source": [
    "import semantics as sem\n",
    "import make_poems_model as mpm\n",
    "import analyze_poem as ap\n",
    "from pprint import pprint"
   ]
  },
  {
   "cell_type": "markdown",
   "metadata": {},
   "source": [
    "Загрузка word2vec модели (скачивал отсюда: http://ling.go.mail.ru/dsm/ru/about#models)"
   ]
  },
  {
   "cell_type": "code",
   "execution_count": 2,
   "metadata": {},
   "outputs": [
    {
     "name": "stdout",
     "output_type": "stream",
     "text": [
      "word2vec model 'c:/temp/data/ruscorpora.model.bin.gz' loaded\n"
     ]
    }
   ],
   "source": [
    "w2v = sem.load_w2v_model(\"c:/temp/data/ruscorpora.model.bin.gz\")"
   ]
  },
  {
   "cell_type": "markdown",
   "metadata": {},
   "source": [
    "Загрузка пирожковой модели"
   ]
  },
  {
   "cell_type": "code",
   "execution_count": 3,
   "metadata": {},
   "outputs": [
    {
     "name": "stdout",
     "output_type": "stream",
     "text": [
      "loading model...\nvectorizing model...\npoems model 'poems_model.dat' loaded"
     ]
    },
    {
     "name": "stdout",
     "output_type": "stream",
     "text": [
      "\n"
     ]
    }
   ],
   "source": [
    "pm = mpm.load_poems_model(\"poems_model.dat\", w2v)"
   ]
  },
  {
   "cell_type": "markdown",
   "metadata": {},
   "source": [
    "Запрос по слову \"метель\""
   ]
  },
  {
   "cell_type": "code",
   "execution_count": 5,
   "metadata": {},
   "outputs": [
    {
     "name": "stdout",
     "output_type": "stream",
     "text": [
      "[('и я явление природы\\n'\n  'я шел как дождь упал как снег\\n'\n  'полз как туман и выл как вьюга\\n'\n  'и словно буря небо крыл\\n',\n  0.52484212686077691),\n ('там где семёна убивали\\n'\n  'сегодня облачно и дождь\\n'\n  'плюс два юговосточный ветер\\n'\n  'местами слабый гололёдда\\n',\n  0.4364857080381519),\n ('ни день ни ночь ни зной ни вьюга\\n'\n  'ничто не в силах нам мешать\\n'\n  'друг друга лайкать на фэйсбуке\\n'\n  'и в инстаграме и в вэка\\n',\n  0.4231589155223921),\n ('дуршлаг на голову надену\\n'\n  'когда в грозу пойду гулять\\n'\n  'но наизнанку чтоб остались\\n'\n  'в нём вермишелины дождя\\n',\n  0.42301932274873294),\n ('мы думали что это лето\\n'\n  'но тут нагрянули снега\\n'\n  'с морозами и те кто выжил\\n'\n  'назвали это оттепель\\n',\n  0.41814796637323548)]\n"
     ]
    }
   ],
   "source": [
    "pprint(ap.similar_poems(\"метель\", pm, w2v, topn=5, use_associations=True))"
   ]
  },
  {
   "cell_type": "code",
   "execution_count": null,
   "metadata": {},
   "outputs": [],
   "source": [
    ""
   ]
  }
 ],
 "metadata": {},
 "nbformat": 4,
 "nbformat_minor": 0
}