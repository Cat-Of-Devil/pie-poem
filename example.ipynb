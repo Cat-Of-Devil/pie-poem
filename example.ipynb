{
 "cells": [
  {
   "cell_type": "markdown",
   "metadata": {},
   "source": [
    "Загрузка моделей (необходимы [pymorphy2](https://pymorphy2.readthedocs.org/en/latest/) и [gensim](https://radimrehurek.com/gensim/)).<br> \n",
    "Word2vec модель скачивал отсюда: http://rusvectores.org/ru/models/"
   ]
  },
  {
   "cell_type": "code",
   "execution_count": 1,
   "metadata": {},
   "outputs": [
    {
     "name": "stderr",
     "output_type": "stream",
     "text": [
      "C:\\Anaconda3\\lib\\site-packages\\gensim\\utils.py:860: UserWarning: detected Windows; aliasing chunkize to chunkize_serial\n",
      "  warnings.warn(\"detected Windows; aliasing chunkize to chunkize_serial\")\n",
      "Slow version of gensim.models.doc2vec is being used\n",
      "2017-05-08 17:39:31,070 : INFO : loading projection weights from c:/data/ruscorpora_1_300_10.bin.gz\n"
     ]
    },
    {
     "name": "stdout",
     "output_type": "stream",
     "text": [
      "loading w2v_model...\n"
     ]
    },
    {
     "name": "stderr",
     "output_type": "stream",
     "text": [
      "2017-05-08 17:39:40,006 : INFO : loaded (184973, 300) matrix from c:/data/ruscorpora_1_300_10.bin.gz\n"
     ]
    },
    {
     "name": "stdout",
     "output_type": "stream",
     "text": [
      "word2vec model 'c:/data/ruscorpora_1_300_10.bin.gz' loaded\n",
      "reading pickle poems model...\n",
      "vectorizing model...\n",
      "model is loaded\n"
     ]
    }
   ],
   "source": [
    "from poems_model import PoemsModel\n",
    "\n",
    "poems_data = './data/poems_model.pickle'\n",
    "w2v_file = 'c:/data/ruscorpora_1_300_10.bin.gz'\n",
    "pm = PoemsModel(poems_data, w2v_file)\n"
   ]
  },
  {
   "cell_type": "markdown",
   "metadata": {},
   "source": [
    "Запрос по слову \"иллюзия\""
   ]
  },
  {
   "cell_type": "code",
   "execution_count": 2,
   "metadata": {},
   "outputs": [
    {
     "name": "stdout",
     "output_type": "stream",
     "text": [
      "проста как боль легка как правда\n",
      "неосязаема как страх\n",
      "скучна как мир пуста как память\n",
      "твоя несбывшаяся жизнь\n",
      "\t0.2587770765631143\n",
      "нам код коррекции ошибок\n",
      "записан в глубину души\n",
      "чтоб мы могли картину мира\n",
      "из ложных данных извлекать\n",
      "\t0.2463622343458551\n",
      "никто давно не верит в сказки\n",
      "про бога и грядущий рай\n",
      "вот апокалипсис немного\n",
      "ещё способен нас увлечь\n",
      "\t0.24087915624377793\n",
      "давайте верить в справедливость\n",
      "как верят в бога в чудеса\n",
      "или в какую то другую\n",
      "несуществующую хрень\n",
      "\t0.23906973819990882\n",
      "в альтернативном мире люди\n",
      "не умирают никогда\n",
      "и экзистенциально верят\n",
      "в отсутствие альтернатив\n",
      "\t0.237362495795455\n",
      "есть сверхспособности и в боли\n",
      "способность есть способность спать\n",
      "чудовищная ясность мысли\n",
      "невосприимчивость к дождю\n",
      "\t0.23231856011251084\n",
      "я идиот а это значит\n",
      "весь мир красив и разноцветн\n",
      "все люди мудры и прекрасны\n",
      "а все кто умерли в раю\n",
      "\t0.23190658801215316\n",
      "куда нас сон всегда приводит\n",
      "в унылый серый плоский мир\n",
      "где нет возможности падений\n",
      "и творческих альтернатив\n",
      "\t0.23051201112138486\n",
      "в своём трёхмерном жалком мире \n",
      "что ты аркадий можешь знать\n",
      "о ритме линий точек пятен \n",
      "и о бескрайности холста\n",
      "\t0.2274697779386808\n",
      "господь не верит в николая\n",
      "нет доказательства што он\n",
      "на этом свете существует\n",
      "и может на него влиять \n",
      "\t0.22465197082852537\n"
     ]
    }
   ],
   "source": [
    "for poem in pm.similar_poems('иллюзия', topn=10): \n",
    "    print(f'{poem[0]}\\t{poem[1]}')"
   ]
  },
  {
   "cell_type": "code",
   "execution_count": null,
   "metadata": {
    "collapsed": true
   },
   "outputs": [],
   "source": []
  }
 ],
 "metadata": {
  "kernelspec": {
   "display_name": "Python 3",
   "language": "python",
   "name": "python3"
  },
  "language_info": {
   "codemirror_mode": {
    "name": "ipython",
    "version": 3
   },
   "file_extension": ".py",
   "mimetype": "text/x-python",
   "name": "python",
   "nbconvert_exporter": "python",
   "pygments_lexer": "ipython3",
   "version": "3.6.1"
  }
 },
 "nbformat": 4,
 "nbformat_minor": 1
}
