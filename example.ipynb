{
 "cells": [
  {
   "cell_type": "markdown",
   "metadata": {},
   "source": [
    "Необходимы [pymorphy2](https://pymorphy2.readthedocs.org/en/latest/) и [gensim](https://radimrehurek.com/gensim/)"
   ]
  },
  {
   "cell_type": "code",
   "execution_count": 2,
   "metadata": {},
   "outputs": [],
   "source": [
    "import semantics as sem\n",
    "import data_model as dm\n",
    "import analyze_poem as ap\n",
    "from pprint import pprint"
   ]
  },
  {
   "cell_type": "markdown",
   "metadata": {},
   "source": [
    "Загрузка word2vec модели (скачивал отсюда: http://ling.go.mail.ru/dsm/ru/about#models)"
   ]
  },
  {
   "cell_type": "code",
   "execution_count": 3,
   "metadata": {},
   "outputs": [
    {
     "name": "stdout",
     "output_type": "stream",
     "text": [
      "word2vec model 'c:/temp/data/ruscorpora.model.bin.gz' loaded\n"
     ]
    }
   ],
   "source": [
    "w2v = sem.load_w2v_model(\"c:/temp/data/ruscorpora.model.bin.gz\")"
   ]
  },
  {
   "cell_type": "markdown",
   "metadata": {},
   "source": [
    "Загрузка пирожковой модели"
   ]
  },
  {
   "cell_type": "code",
   "execution_count": 4,
   "metadata": {},
   "outputs": [],
   "source": [
    "pm = dm.read_data_model(\"poems_model.dat\")"
   ]
  },
  {
   "cell_type": "markdown",
   "metadata": {},
   "source": [
    "Запрос по слову \"метель\""
   ]
  },
  {
   "cell_type": "code",
   "execution_count": 6,
   "metadata": {},
   "outputs": [
    {
     "name": "stdout",
     "output_type": "stream",
     "text": [
      "[('и я явление природы\\n'\n  'я шел как дождь упал как снег\\n'\n  'полз как туман и выл как вьюга\\n'\n  'и словно буря небо крыл\\n',\n  0.29709907678457409),\n ('внутри зимы замёрзло лето\\n'\n  'и в этой вьюге за окном\\n'\n  'кружат осколки летних радуг\\n'\n  'сливаясь в снежно белый цвет\\n',\n  0.22280074999882624),\n ('поймали гопники снегурку\\n'\n  'сорвали шубку а под ней\\n'\n  'черным черно и ветер воет\\n'\n  'и хлопья снежные летят\\n',\n  0.21124250238591974),\n ('на палубе стоят матросы\\n'\n  'стоят стоят стоят стоят\\n'\n  'стоят стоят стоят и ветер \\n'\n  'и ветер воет и темно\\n',\n  0.20740975936253866),\n ('а помнишь тот осенний вечер\\n'\n  'ты маленький а за окном\\n'\n  'холодный дождь стучит и трубы\\n'\n  'ревут протяжно в темноте\\n',\n  0.20168662071228027)]\n"
     ]
    }
   ],
   "source": [
    "pprint(ap.similar_poems(\"метель\", pm, w2v, topn=5, use_associations=False))"
   ]
  },
  {
   "cell_type": "code",
   "execution_count": null,
   "metadata": {},
   "outputs": [],
   "source": [
    ""
   ]
  }
 ],
 "metadata": {},
 "nbformat": 4,
 "nbformat_minor": 0
}