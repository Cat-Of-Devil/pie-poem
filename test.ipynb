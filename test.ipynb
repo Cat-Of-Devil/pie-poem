{
 "cells": [
  {
   "cell_type": "code",
   "execution_count": 1,
   "metadata": {
    "collapsed": false
   },
   "outputs": [
    {
     "name": "stdout",
     "output_type": "stream",
     "text": [
      "word2vec model 'c:/temp/data/ruscorpora.model.bin.gz' loaded\n"
     ]
    }
   ],
   "source": [
    "import semantics as sem\n",
    "import make_poems_model as mpm\n",
    "import analyze_poem as ap\n",
    "from pprint import pprint\n",
    "\n",
    "w2v = sem.load_w2v_model(\"c:/temp/data/ruscorpora.model.bin.gz\")"
   ]
  },
  {
   "cell_type": "code",
   "execution_count": 5,
   "metadata": {
    "collapsed": false
   },
   "outputs": [
    {
     "name": "stderr",
     "output_type": "stream",
     "text": [
      "ERROR: Line magic function `%make_poems_model` not found.\n"
     ]
    }
   ],
   "source": [
    "%make_poems_model as mpm inline\n"
   ]
  },
  {
   "cell_type": "code",
   "execution_count": 2,
   "metadata": {
    "collapsed": false
   },
   "outputs": [
    {
     "name": "stdout",
     "output_type": "stream",
     "text": [
      "loading model...\n",
      "vectorizing model...\n",
      "poems model 'poems_model_big.dat' loaded\n"
     ]
    }
   ],
   "source": [
    "pm = mpm.load_poems_model(\"poems_model_big.dat\", w2v, vectorize=True)"
   ]
  },
  {
   "cell_type": "code",
   "execution_count": 4,
   "metadata": {
    "collapsed": false
   },
   "outputs": [
    {
     "name": "stdout",
     "output_type": "stream",
     "text": [
      "[('зачем со мной как с украиной \\n'\n",
      "  'ты поступаеш зульфия \\n'\n",
      "  'оплату просиш за ноябырь \\n'\n",
      "  'и заявленье пишеш в суд\\n',\n",
      "  0.37808165755808881),\n",
      " ('согласно новому закону\\n'\n",
      "  'вы к заявлению на секс\\n'\n",
      "  'должны прикладывать регламент\\n'\n",
      "  'а после сдать отчёт в райком\\n',\n",
      "  0.32244741424449841),\n",
      " ('из канцелярии небесной\\n'\n",
      "  'пришел ответ на мой запрос\\n'\n",
      "  'стандартный бланк со штампом хуйвам\\n'\n",
      "  'и подпись старший по хуйвам\\n',\n",
      "  0.30662142443796658),\n",
      " ('принципиально не согласен \\n'\n",
      "  'илья с решением кузьмы \\n'\n",
      "  'ваш аргумент немного спорен \\n'\n",
      "  'издалека заходит он\\n',\n",
      "  0.27923376914586084),\n",
      " ('вновь разлетятся поздравленья\\n'\n",
      "  'по почте мылу эсэмэс\\n'\n",
      "  'когда же это прекратится\\n'\n",
      "  'пора бы что то предпринять\\n',\n",
      "  0.26590238171523672)]\n"
     ]
    }
   ],
   "source": [
    "pprint(ap.similar_poems(\"запрос\", pm, w2v, topn=5, use_associations=True))"
   ]
  }
 ],
 "metadata": {
  "kernelspec": {
   "display_name": "Python 3",
   "language": "python",
   "name": "python3"
  },
  "language_info": {
   "codemirror_mode": {
    "name": "ipython",
    "version": 3
   },
   "file_extension": ".py",
   "mimetype": "text/x-python",
   "name": "python",
   "nbconvert_exporter": "python",
   "pygments_lexer": "ipython3",
   "version": "3.5.1"
  }
 },
 "nbformat": 4,
 "nbformat_minor": 0
}
