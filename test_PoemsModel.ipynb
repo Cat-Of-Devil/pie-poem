{
 "cells": [
  {
   "cell_type": "markdown",
   "metadata": {},
   "source": [
    "## Compile model"
   ]
  },
  {
   "cell_type": "code",
   "execution_count": 1,
   "metadata": {
    "collapsed": false
   },
   "outputs": [
    {
     "name": "stderr",
     "output_type": "stream",
     "text": [
      "C:\\Anaconda3\\lib\\site-packages\\gensim\\utils.py:860: UserWarning: detected Windows; aliasing chunkize to chunkize_serial\n",
      "  warnings.warn(\"detected Windows; aliasing chunkize to chunkize_serial\")\n",
      "Slow version of gensim.models.doc2vec is being used\n"
     ]
    }
   ],
   "source": [
    "from poems_model import PoemsModel"
   ]
  },
  {
   "cell_type": "code",
   "execution_count": 2,
   "metadata": {
    "collapsed": false
   },
   "outputs": [
    {
     "name": "stdout",
     "output_type": "stream",
     "text": [
      "poem count: 7509\n",
      "making word bags...\n",
      "Parse(word='еси', tag=OpencorporaTag('UNKN'), normal_form='еси', score=1.0, methods_stack=((<UnknAnalyzer>, 'еси'),))\n",
      "Parse(word='хэ', tag=OpencorporaTag('UNKN'), normal_form='хэ', score=1.0, methods_stack=((<UnknAnalyzer>, 'хэ'),))\n",
      "Parse(word='ёг', tag=OpencorporaTag('UNKN'), normal_form='ёг', score=1.0, methods_stack=((<UnknAnalyzer>, 'ёг'),))\n",
      "Parse(word='чо', tag=OpencorporaTag('UNKN'), normal_form='чо', score=1.0, methods_stack=((<UnknAnalyzer>, 'чо'),))\n",
      "Parse(word='чо', tag=OpencorporaTag('UNKN'), normal_form='чо', score=1.0, methods_stack=((<UnknAnalyzer>, 'чо'),))\n",
      "Parse(word='нью', tag=OpencorporaTag('UNKN'), normal_form='нью', score=1.0, methods_stack=((<UnknAnalyzer>, 'нью'),))\n",
      "Parse(word='сэн', tag=OpencorporaTag('UNKN'), normal_form='сэн', score=1.0, methods_stack=((<UnknAnalyzer>, 'сэн'),))\n",
      "Parse(word='нео', tag=OpencorporaTag('UNKN'), normal_form='нео', score=1.0, methods_stack=((<UnknAnalyzer>, 'нео'),))\n",
      "Parse(word='ща', tag=OpencorporaTag('UNKN'), normal_form='ща', score=1.0, methods_stack=((<UnknAnalyzer>, 'ща'),))\n",
      "Parse(word='зай', tag=OpencorporaTag('UNKN'), normal_form='зай', score=1.0, methods_stack=((<UnknAnalyzer>, 'зай'),))\n",
      "Parse(word='дэ', tag=OpencorporaTag('UNKN'), normal_form='дэ', score=1.0, methods_stack=((<UnknAnalyzer>, 'дэ'),))\n",
      "Parse(word='тэ', tag=OpencorporaTag('UNKN'), normal_form='тэ', score=1.0, methods_stack=((<UnknAnalyzer>, 'тэ'),))\n",
      "Parse(word='зачот', tag=OpencorporaTag('UNKN'), normal_form='зачот', score=1.0, methods_stack=((<UnknAnalyzer>, 'чот'), (<KnownPrefixAnalyzer>, 'за')))\n",
      "Parse(word='шён', tag=OpencorporaTag('UNKN'), normal_form='шён', score=1.0, methods_stack=((<UnknAnalyzer>, 'шён'),))\n",
      "Parse(word='йа', tag=OpencorporaTag('UNKN'), normal_form='йа', score=1.0, methods_stack=((<UnknAnalyzer>, 'йа'),))\n",
      "Parse(word='недоёба', tag=OpencorporaTag('UNKN'), normal_form='недоёба', score=1.0, methods_stack=((<UnknAnalyzer>, 'ёба'), (<KnownPrefixAnalyzer>, 'недо')))\n",
      "Parse(word='ещо', tag=OpencorporaTag('UNKN'), normal_form='ещо', score=1.0, methods_stack=((<UnknAnalyzer>, 'ещо'),))\n",
      "Parse(word='ю', tag=OpencorporaTag('UNKN'), normal_form='ю', score=1.0, methods_stack=((<UnknAnalyzer>, 'ю'),))\n",
      "Parse(word='чом', tag=OpencorporaTag('UNKN'), normal_form='чом', score=1.0, methods_stack=((<UnknAnalyzer>, 'чом'),))\n",
      "Parse(word='жэ', tag=OpencorporaTag('UNKN'), normal_form='жэ', score=1.0, methods_stack=((<UnknAnalyzer>, 'жэ'),))\n",
      "Parse(word='чмо', tag=OpencorporaTag('UNKN'), normal_form='чмо', score=1.0, methods_stack=((<UnknAnalyzer>, 'чмо'),))\n",
      "Parse(word='ево', tag=OpencorporaTag('UNKN'), normal_form='ево', score=1.0, methods_stack=((<UnknAnalyzer>, 'ево'),))\n",
      "Parse(word='ка', tag=OpencorporaTag('UNKN'), normal_form='ка', score=1.0, methods_stack=((<UnknAnalyzer>, 'ка'),))\n",
      "Parse(word='ещо', tag=OpencorporaTag('UNKN'), normal_form='ещо', score=1.0, methods_stack=((<UnknAnalyzer>, 'ещо'),))\n",
      "Parse(word='кэ', tag=OpencorporaTag('UNKN'), normal_form='кэ', score=1.0, methods_stack=((<UnknAnalyzer>, 'кэ'),))\n",
      "Parse(word='ка', tag=OpencorporaTag('UNKN'), normal_form='ка', score=1.0, methods_stack=((<UnknAnalyzer>, 'ка'),))\n",
      "Parse(word='ду', tag=OpencorporaTag('UNKN'), normal_form='ду', score=1.0, methods_stack=((<UnknAnalyzer>, 'ду'),))\n",
      "Parse(word='ду', tag=OpencorporaTag('UNKN'), normal_form='ду', score=1.0, methods_stack=((<UnknAnalyzer>, 'ду'),))\n",
      "Parse(word='ё', tag=OpencorporaTag('UNKN'), normal_form='ё', score=1.0, methods_stack=((<UnknAnalyzer>, 'ё'),))\n",
      "Parse(word='жэ', tag=OpencorporaTag('UNKN'), normal_form='жэ', score=1.0, methods_stack=((<UnknAnalyzer>, 'жэ'),))\n",
      "Parse(word='ещо', tag=OpencorporaTag('UNKN'), normal_form='ещо', score=1.0, methods_stack=((<UnknAnalyzer>, 'ещо'),))\n",
      "Parse(word='ок', tag=OpencorporaTag('UNKN'), normal_form='ок', score=1.0, methods_stack=((<UnknAnalyzer>, 'ок'),))\n",
      "Parse(word='гоа', tag=OpencorporaTag('UNKN'), normal_form='гоа', score=1.0, methods_stack=((<UnknAnalyzer>, 'гоа'),))\n",
      "Parse(word='дэ', tag=OpencorporaTag('UNKN'), normal_form='дэ', score=1.0, methods_stack=((<UnknAnalyzer>, 'дэ'),))\n",
      "Parse(word='ю', tag=OpencorporaTag('UNKN'), normal_form='ю', score=1.0, methods_stack=((<UnknAnalyzer>, 'ю'),))\n",
      "Parse(word='оф', tag=OpencorporaTag('UNKN'), normal_form='оф', score=1.0, methods_stack=((<UnknAnalyzer>, 'оф'),))\n",
      "Parse(word='ка', tag=OpencorporaTag('UNKN'), normal_form='ка', score=1.0, methods_stack=((<UnknAnalyzer>, 'ка'),))\n",
      "Parse(word='ево', tag=OpencorporaTag('UNKN'), normal_form='ево', score=1.0, methods_stack=((<UnknAnalyzer>, 'ево'),))\n",
      "Parse(word='небесица', tag=OpencorporaTag('UNKN'), normal_form='небесица', score=1.0, methods_stack=((<UnknAnalyzer>, 'ица'), (<KnownPrefixAnalyzer>, 'бес'), (<KnownPrefixAnalyzer>, 'не')))\n",
      "Parse(word='бесица', tag=OpencorporaTag('UNKN'), normal_form='бесица', score=1.0, methods_stack=((<UnknAnalyzer>, 'ица'), (<KnownPrefixAnalyzer>, 'бес')))\n",
      "Parse(word='ево', tag=OpencorporaTag('UNKN'), normal_form='ево', score=1.0, methods_stack=((<UnknAnalyzer>, 'ево'),))\n",
      "Parse(word='ын', tag=OpencorporaTag('UNKN'), normal_form='ын', score=1.0, methods_stack=((<UnknAnalyzer>, 'ын'),))\n",
      "Parse(word='ево', tag=OpencorporaTag('UNKN'), normal_form='ево', score=1.0, methods_stack=((<UnknAnalyzer>, 'ево'),))\n",
      "Parse(word='лиш', tag=OpencorporaTag('UNKN'), normal_form='лиш', score=1.0, methods_stack=((<UnknAnalyzer>, 'лиш'),))\n",
      "Parse(word='ево', tag=OpencorporaTag('UNKN'), normal_form='ево', score=1.0, methods_stack=((<UnknAnalyzer>, 'ево'),))\n",
      "Parse(word='ю', tag=OpencorporaTag('UNKN'), normal_form='ю', score=1.0, methods_stack=((<UnknAnalyzer>, 'ю'),))\n",
      "Parse(word='р', tag=OpencorporaTag('UNKN'), normal_form='р', score=1.0, methods_stack=((<UnknAnalyzer>, 'р'),))\n",
      "Parse(word='лэй', tag=OpencorporaTag('UNKN'), normal_form='лэй', score=1.0, methods_stack=((<UnknAnalyzer>, 'лэй'),))\n",
      "Parse(word='ево', tag=OpencorporaTag('UNKN'), normal_form='ево', score=1.0, methods_stack=((<UnknAnalyzer>, 'ево'),))\n",
      "Parse(word='ево', tag=OpencorporaTag('UNKN'), normal_form='ево', score=1.0, methods_stack=((<UnknAnalyzer>, 'ево'),))\n",
      "Parse(word='спа', tag=OpencorporaTag('UNKN'), normal_form='спа', score=1.0, methods_stack=((<UnknAnalyzer>, 'спа'),))\n",
      "Parse(word='бла', tag=OpencorporaTag('UNKN'), normal_form='бла', score=1.0, methods_stack=((<UnknAnalyzer>, 'бла'),))\n",
      "Parse(word='бла', tag=OpencorporaTag('UNKN'), normal_form='бла', score=1.0, methods_stack=((<UnknAnalyzer>, 'бла'),))\n",
      "Parse(word='бла', tag=OpencorporaTag('UNKN'), normal_form='бла', score=1.0, methods_stack=((<UnknAnalyzer>, 'бла'),))\n",
      "Parse(word='бла', tag=OpencorporaTag('UNKN'), normal_form='бла', score=1.0, methods_stack=((<UnknAnalyzer>, 'бла'),))\n",
      "Parse(word='бла', tag=OpencorporaTag('UNKN'), normal_form='бла', score=1.0, methods_stack=((<UnknAnalyzer>, 'бла'),))\n",
      "Parse(word='бла', tag=OpencorporaTag('UNKN'), normal_form='бла', score=1.0, methods_stack=((<UnknAnalyzer>, 'бла'),))\n",
      "Parse(word='бла', tag=OpencorporaTag('UNKN'), normal_form='бла', score=1.0, methods_stack=((<UnknAnalyzer>, 'бла'),))\n",
      "Parse(word='бла', tag=OpencorporaTag('UNKN'), normal_form='бла', score=1.0, methods_stack=((<UnknAnalyzer>, 'бла'),))\n",
      "Parse(word='ево', tag=OpencorporaTag('UNKN'), normal_form='ево', score=1.0, methods_stack=((<UnknAnalyzer>, 'ево'),))\n",
      "Parse(word='мощ', tag=OpencorporaTag('UNKN'), normal_form='мощ', score=1.0, methods_stack=((<UnknAnalyzer>, 'мощ'),))\n",
      "Parse(word='че', tag=OpencorporaTag('UNKN'), normal_form='че', score=1.0, methods_stack=((<UnknAnalyzer>, 'че'),))\n",
      "Parse(word='дожик', tag=OpencorporaTag('UNKN'), normal_form='дожик', score=1.0, methods_stack=((<UnknAnalyzer>, 'жик'), (<KnownPrefixAnalyzer>, 'до')))\n",
      "Parse(word='жок', tag=OpencorporaTag('UNKN'), normal_form='жок', score=1.0, methods_stack=((<UnknAnalyzer>, 'жок'),))\n",
      "Parse(word='ду', tag=OpencorporaTag('UNKN'), normal_form='ду', score=1.0, methods_stack=((<UnknAnalyzer>, 'ду'),))\n",
      "Parse(word='ю', tag=OpencorporaTag('UNKN'), normal_form='ю', score=1.0, methods_stack=((<UnknAnalyzer>, 'ю'),))\n",
      "Parse(word='ду', tag=OpencorporaTag('UNKN'), normal_form='ду', score=1.0, methods_stack=((<UnknAnalyzer>, 'ду'),))\n",
      "Parse(word='ещо', tag=OpencorporaTag('UNKN'), normal_form='ещо', score=1.0, methods_stack=((<UnknAnalyzer>, 'ещо'),))\n",
      "Parse(word='лю', tag=OpencorporaTag('UNKN'), normal_form='лю', score=1.0, methods_stack=((<UnknAnalyzer>, 'лю'),))\n",
      "Parse(word='сос', tag=OpencorporaTag('UNKN'), normal_form='сос', score=1.0, methods_stack=((<UnknAnalyzer>, 'сос'),))\n",
      "Parse(word='реч', tag=OpencorporaTag('UNKN'), normal_form='реч', score=1.0, methods_stack=((<UnknAnalyzer>, 'реч'),))\n",
      "Parse(word='чом', tag=OpencorporaTag('UNKN'), normal_form='чом', score=1.0, methods_stack=((<UnknAnalyzer>, 'чом'),))\n",
      "Parse(word='тыц', tag=OpencorporaTag('UNKN'), normal_form='тыц', score=1.0, methods_stack=((<UnknAnalyzer>, 'тыц'),))\n",
      "Parse(word='тыц', tag=OpencorporaTag('UNKN'), normal_form='тыц', score=1.0, methods_stack=((<UnknAnalyzer>, 'тыц'),))\n",
      "Parse(word='тыц', tag=OpencorporaTag('UNKN'), normal_form='тыц', score=1.0, methods_stack=((<UnknAnalyzer>, 'тыц'),))\n",
      "Parse(word='тыц', tag=OpencorporaTag('UNKN'), normal_form='тыц', score=1.0, methods_stack=((<UnknAnalyzer>, 'тыц'),))\n",
      "Parse(word='бэ', tag=OpencorporaTag('UNKN'), normal_form='бэ', score=1.0, methods_stack=((<UnknAnalyzer>, 'бэ'),))\n",
      "Parse(word='общемто', tag=OpencorporaTag('UNKN'), normal_form='общемто', score=1.0, methods_stack=((<UnknAnalyzer>, 'мто'), (<KnownPrefixAnalyzer>, 'обще')))\n",
      "Parse(word='ё', tag=OpencorporaTag('UNKN'), normal_form='ё', score=1.0, methods_stack=((<UnknAnalyzer>, 'ё'),))\n",
      "Parse(word='ок', tag=OpencorporaTag('UNKN'), normal_form='ок', score=1.0, methods_stack=((<UnknAnalyzer>, 'ок'),))\n",
      "Parse(word='постить', tag=OpencorporaTag('UNKN'), normal_form='постить', score=1.0, methods_stack=((<UnknAnalyzer>, 'ить'), (<KnownPrefixAnalyzer>, 'пост')))\n",
      "Parse(word='ка', tag=OpencorporaTag('UNKN'), normal_form='ка', score=1.0, methods_stack=((<UnknAnalyzer>, 'ка'),))\n",
      "Parse(word='бэ', tag=OpencorporaTag('UNKN'), normal_form='бэ', score=1.0, methods_stack=((<UnknAnalyzer>, 'бэ'),))\n",
      "Parse(word='дэ', tag=OpencorporaTag('UNKN'), normal_form='дэ', score=1.0, methods_stack=((<UnknAnalyzer>, 'дэ'),))\n",
      "Parse(word='ка', tag=OpencorporaTag('UNKN'), normal_form='ка', score=1.0, methods_stack=((<UnknAnalyzer>, 'ка'),))\n",
      "Parse(word='ево', tag=OpencorporaTag('UNKN'), normal_form='ево', score=1.0, methods_stack=((<UnknAnalyzer>, 'ево'),))\n",
      "Parse(word='йож', tag=OpencorporaTag('UNKN'), normal_form='йож', score=1.0, methods_stack=((<UnknAnalyzer>, 'йож'),))\n",
      "Parse(word='ево', tag=OpencorporaTag('UNKN'), normal_form='ево', score=1.0, methods_stack=((<UnknAnalyzer>, 'ево'),))\n",
      "Parse(word='тум', tag=OpencorporaTag('UNKN'), normal_form='тум', score=1.0, methods_stack=((<UnknAnalyzer>, 'тум'),))\n",
      "Parse(word='тум', tag=OpencorporaTag('UNKN'), normal_form='тум', score=1.0, methods_stack=((<UnknAnalyzer>, 'тум'),))\n",
      "Parse(word='тум', tag=OpencorporaTag('UNKN'), normal_form='тум', score=1.0, methods_stack=((<UnknAnalyzer>, 'тум'),))\n",
      "Parse(word='тум', tag=OpencorporaTag('UNKN'), normal_form='тум', score=1.0, methods_stack=((<UnknAnalyzer>, 'тум'),))\n",
      "Parse(word='тум', tag=OpencorporaTag('UNKN'), normal_form='тум', score=1.0, methods_stack=((<UnknAnalyzer>, 'тум'),))\n",
      "Parse(word='тум', tag=OpencorporaTag('UNKN'), normal_form='тум', score=1.0, methods_stack=((<UnknAnalyzer>, 'тум'),))\n",
      "Parse(word='жеж', tag=OpencorporaTag('UNKN'), normal_form='жеж', score=1.0, methods_stack=((<UnknAnalyzer>, 'жеж'),))\n",
      "Parse(word='бэ', tag=OpencorporaTag('UNKN'), normal_form='бэ', score=1.0, methods_stack=((<UnknAnalyzer>, 'бэ'),))\n",
      "Parse(word='ка', tag=OpencorporaTag('UNKN'), normal_form='ка', score=1.0, methods_stack=((<UnknAnalyzer>, 'ка'),))\n",
      "Parse(word='ся', tag=OpencorporaTag('UNKN'), normal_form='ся', score=1.0, methods_stack=((<UnknAnalyzer>, 'ся'),))\n",
      "Parse(word='бох', tag=OpencorporaTag('UNKN'), normal_form='бох', score=1.0, methods_stack=((<UnknAnalyzer>, 'бох'),))\n",
      "Parse(word='вэ', tag=OpencorporaTag('UNKN'), normal_form='вэ', score=1.0, methods_stack=((<UnknAnalyzer>, 'вэ'),))\n",
      "Parse(word='нэ', tag=OpencorporaTag('UNKN'), normal_form='нэ', score=1.0, methods_stack=((<UnknAnalyzer>, 'нэ'),))\n",
      "Parse(word='нэ', tag=OpencorporaTag('UNKN'), normal_form='нэ', score=1.0, methods_stack=((<UnknAnalyzer>, 'нэ'),))\n",
      "Parse(word='ка', tag=OpencorporaTag('UNKN'), normal_form='ка', score=1.0, methods_stack=((<UnknAnalyzer>, 'ка'),))\n",
      "Parse(word='ка', tag=OpencorporaTag('UNKN'), normal_form='ка', score=1.0, methods_stack=((<UnknAnalyzer>, 'ка'),))\n",
      "Parse(word='дэ', tag=OpencorporaTag('UNKN'), normal_form='дэ', score=1.0, methods_stack=((<UnknAnalyzer>, 'дэ'),))\n",
      "Parse(word='чук', tag=OpencorporaTag('UNKN'), normal_form='чук', score=1.0, methods_stack=((<UnknAnalyzer>, 'чук'),))\n",
      "Parse(word='био', tag=OpencorporaTag('UNKN'), normal_form='био', score=1.0, methods_stack=((<UnknAnalyzer>, 'био'),))\n",
      "Parse(word='жэ', tag=OpencorporaTag('UNKN'), normal_form='жэ', score=1.0, methods_stack=((<UnknAnalyzer>, 'жэ'),))\n",
      "Parse(word='кэ', tag=OpencorporaTag('UNKN'), normal_form='кэ', score=1.0, methods_stack=((<UnknAnalyzer>, 'кэ'),))\n",
      "Parse(word='ещо', tag=OpencorporaTag('UNKN'), normal_form='ещо', score=1.0, methods_stack=((<UnknAnalyzer>, 'ещо'),))\n",
      "Parse(word='ка', tag=OpencorporaTag('UNKN'), normal_form='ка', score=1.0, methods_stack=((<UnknAnalyzer>, 'ка'),))\n",
      "Parse(word='ещо', tag=OpencorporaTag('UNKN'), normal_form='ещо', score=1.0, methods_stack=((<UnknAnalyzer>, 'ещо'),))\n",
      "Parse(word='йу', tag=OpencorporaTag('UNKN'), normal_form='йу', score=1.0, methods_stack=((<UnknAnalyzer>, 'йу'),))\n",
      "Parse(word='ево', tag=OpencorporaTag('UNKN'), normal_form='ево', score=1.0, methods_stack=((<UnknAnalyzer>, 'ево'),))\n",
      "Parse(word='ци', tag=OpencorporaTag('UNKN'), normal_form='ци', score=1.0, methods_stack=((<UnknAnalyzer>, 'ци'),))\n",
      "Parse(word='пэ', tag=OpencorporaTag('UNKN'), normal_form='пэ', score=1.0, methods_stack=((<UnknAnalyzer>, 'пэ'),))\n",
      "Parse(word='тэ', tag=OpencorporaTag('UNKN'), normal_form='тэ', score=1.0, methods_stack=((<UnknAnalyzer>, 'тэ'),))\n",
      "Parse(word='эл', tag=OpencorporaTag('UNKN'), normal_form='эл', score=1.0, methods_stack=((<UnknAnalyzer>, 'эл'),))\n",
      "Parse(word='лиш', tag=OpencorporaTag('UNKN'), normal_form='лиш', score=1.0, methods_stack=((<UnknAnalyzer>, 'лиш'),))\n",
      "Parse(word='бэ', tag=OpencorporaTag('UNKN'), normal_form='бэ', score=1.0, methods_stack=((<UnknAnalyzer>, 'бэ'),))\n",
      "Parse(word='ла', tag=OpencorporaTag('UNKN'), normal_form='ла', score=1.0, methods_stack=((<UnknAnalyzer>, 'ла'),))\n",
      "Parse(word='ка', tag=OpencorporaTag('UNKN'), normal_form='ка', score=1.0, methods_stack=((<UnknAnalyzer>, 'ка'),))\n",
      "Parse(word='ево', tag=OpencorporaTag('UNKN'), normal_form='ево', score=1.0, methods_stack=((<UnknAnalyzer>, 'ево'),))\n",
      "Parse(word='доч', tag=OpencorporaTag('UNKN'), normal_form='доч', score=1.0, methods_stack=((<UnknAnalyzer>, 'доч'),))\n",
      "Parse(word='ево', tag=OpencorporaTag('UNKN'), normal_form='ево', score=1.0, methods_stack=((<UnknAnalyzer>, 'ево'),))\n",
      "Parse(word='пэо', tag=OpencorporaTag('UNKN'), normal_form='пэо', score=1.0, methods_stack=((<UnknAnalyzer>, 'пэо'),))\n",
      "Parse(word='жэ', tag=OpencorporaTag('UNKN'), normal_form='жэ', score=1.0, methods_stack=((<UnknAnalyzer>, 'жэ'),))\n",
      "Parse(word='олу', tag=OpencorporaTag('UNKN'), normal_form='олу', score=1.0, methods_stack=((<UnknAnalyzer>, 'олу'),))\n",
      "Parse(word='ево', tag=OpencorporaTag('UNKN'), normal_form='ево', score=1.0, methods_stack=((<UnknAnalyzer>, 'ево'),))\n",
      "Parse(word='яб', tag=OpencorporaTag('UNKN'), normal_form='яб', score=1.0, methods_stack=((<UnknAnalyzer>, 'яб'),))\n",
      "Parse(word='нью', tag=OpencorporaTag('UNKN'), normal_form='нью', score=1.0, methods_stack=((<UnknAnalyzer>, 'нью'),))\n",
      "Parse(word='че', tag=OpencorporaTag('UNKN'), normal_form='че', score=1.0, methods_stack=((<UnknAnalyzer>, 'че'),))\n",
      "Parse(word='юго', tag=OpencorporaTag('UNKN'), normal_form='юго', score=1.0, methods_stack=((<UnknAnalyzer>, 'юго'),))\n",
      "Parse(word='ш', tag=OpencorporaTag('UNKN'), normal_form='ш', score=1.0, methods_stack=((<UnknAnalyzer>, 'ш'),))\n",
      "Parse(word='ци', tag=OpencorporaTag('UNKN'), normal_form='ци', score=1.0, methods_stack=((<UnknAnalyzer>, 'ци'),))\n",
      "Parse(word='заебу', tag=OpencorporaTag('UNKN'), normal_form='заебу', score=1.0, methods_stack=((<UnknAnalyzer>, 'ебу'), (<KnownPrefixAnalyzer>, 'за')))\n",
      "Parse(word='бэ', tag=OpencorporaTag('UNKN'), normal_form='бэ', score=1.0, methods_stack=((<UnknAnalyzer>, 'бэ'),))\n",
      "Parse(word='кей', tag=OpencorporaTag('UNKN'), normal_form='кей', score=1.0, methods_stack=((<UnknAnalyzer>, 'кей'),))\n",
      "Parse(word='фер', tag=OpencorporaTag('UNKN'), normal_form='фер', score=1.0, methods_stack=((<UnknAnalyzer>, 'фер'),))\n",
      "Parse(word='тэ', tag=OpencorporaTag('UNKN'), normal_form='тэ', score=1.0, methods_stack=((<UnknAnalyzer>, 'тэ'),))\n",
      "Parse(word='упс', tag=OpencorporaTag('UNKN'), normal_form='упс', score=1.0, methods_stack=((<UnknAnalyzer>, 'упс'),))\n",
      "Parse(word='ево', tag=OpencorporaTag('UNKN'), normal_form='ево', score=1.0, methods_stack=((<UnknAnalyzer>, 'ево'),))\n",
      "Parse(word='дожём', tag=OpencorporaTag('UNKN'), normal_form='дожём', score=1.0, methods_stack=((<UnknAnalyzer>, 'жём'), (<KnownPrefixAnalyzer>, 'до')))\n",
      "Parse(word='жон', tag=OpencorporaTag('UNKN'), normal_form='жон', score=1.0, methods_stack=((<UnknAnalyzer>, 'жон'),))\n",
      "Parse(word='энд', tag=OpencorporaTag('UNKN'), normal_form='энд', score=1.0, methods_stack=((<UnknAnalyzer>, 'энд'),))\n",
      "Parse(word='юэ', tag=OpencorporaTag('UNKN'), normal_form='юэ', score=1.0, methods_stack=((<UnknAnalyzer>, 'юэ'),))\n",
      "Parse(word='электронке', tag=OpencorporaTag('UNKN'), normal_form='электронке', score=1.0, methods_stack=((<UnknAnalyzer>, 'нке'), (<KnownPrefixAnalyzer>, 'электро')))\n",
      "Parse(word='че', tag=OpencorporaTag('UNKN'), normal_form='че', score=1.0, methods_stack=((<UnknAnalyzer>, 'че'),))\n",
      "Parse(word='мэм', tag=OpencorporaTag('UNKN'), normal_form='мэм', score=1.0, methods_stack=((<UnknAnalyzer>, 'мэм'),))\n",
      "Parse(word='чо', tag=OpencorporaTag('UNKN'), normal_form='чо', score=1.0, methods_stack=((<UnknAnalyzer>, 'чо'),))\n",
      "Parse(word='чо', tag=OpencorporaTag('UNKN'), normal_form='чо', score=1.0, methods_stack=((<UnknAnalyzer>, 'чо'),))\n",
      "Parse(word='самочка', tag=OpencorporaTag('UNKN'), normal_form='самочка', score=1.0, methods_stack=((<UnknAnalyzer>, 'чка'), (<KnownPrefixAnalyzer>, 'само')))\n",
      "Parse(word='чо', tag=OpencorporaTag('UNKN'), normal_form='чо', score=1.0, methods_stack=((<UnknAnalyzer>, 'чо'),))\n",
      "Parse(word='нал', tag=OpencorporaTag('UNKN'), normal_form='нал', score=1.0, methods_stack=((<UnknAnalyzer>, 'нал'),))\n",
      "Parse(word='ка', tag=OpencorporaTag('UNKN'), normal_form='ка', score=1.0, methods_stack=((<UnknAnalyzer>, 'ка'),))\n",
      "Parse(word='ок', tag=OpencorporaTag('UNKN'), normal_form='ок', score=1.0, methods_stack=((<UnknAnalyzer>, 'ок'),))\n",
      "Parse(word='бад', tag=OpencorporaTag('UNKN'), normal_form='бад', score=1.0, methods_stack=((<UnknAnalyzer>, 'бад'),))\n",
      "Parse(word='олл', tag=OpencorporaTag('UNKN'), normal_form='олл', score=1.0, methods_stack=((<UnknAnalyzer>, 'олл'),))\n",
      "Parse(word='жо', tag=OpencorporaTag('UNKN'), normal_form='жо', score=1.0, methods_stack=((<UnknAnalyzer>, 'жо'),))\n",
      "Parse(word='ху', tag=OpencorporaTag('UNKN'), normal_form='ху', score=1.0, methods_stack=((<UnknAnalyzer>, 'ху'),))\n",
      "Parse(word='ху', tag=OpencorporaTag('UNKN'), normal_form='ху', score=1.0, methods_stack=((<UnknAnalyzer>, 'ху'),))\n",
      "Parse(word='жо', tag=OpencorporaTag('UNKN'), normal_form='жо', score=1.0, methods_stack=((<UnknAnalyzer>, 'жо'),))\n",
      "Parse(word='зе', tag=OpencorporaTag('UNKN'), normal_form='зе', score=1.0, methods_stack=((<UnknAnalyzer>, 'зе'),))\n",
      "Parse(word='рио', tag=OpencorporaTag('UNKN'), normal_form='рио', score=1.0, methods_stack=((<UnknAnalyzer>, 'рио'),))\n",
      "Parse(word='кв', tag=OpencorporaTag('UNKN'), normal_form='кв', score=1.0, methods_stack=((<UnknAnalyzer>, 'кв'),))\n",
      "Parse(word='ру', tag=OpencorporaTag('UNKN'), normal_form='ру', score=1.0, methods_stack=((<UnknAnalyzer>, 'ру'),))\n",
      "Parse(word='сру', tag=OpencorporaTag('UNKN'), normal_form='сру', score=1.0, methods_stack=((<UnknAnalyzer>, 'сру'),))\n",
      "Parse(word='чё', tag=OpencorporaTag('UNKN'), normal_form='чё', score=1.0, methods_stack=((<UnknAnalyzer>, 'чё'),))\n",
      "Parse(word='гуф', tag=OpencorporaTag('UNKN'), normal_form='гуф', score=1.0, methods_stack=((<UnknAnalyzer>, 'гуф'),))\n",
      "Parse(word='жы', tag=OpencorporaTag('UNKN'), normal_form='жы', score=1.0, methods_stack=((<UnknAnalyzer>, 'жы'),))\n",
      "Parse(word='шы', tag=OpencorporaTag('UNKN'), normal_form='шы', score=1.0, methods_stack=((<UnknAnalyzer>, 'шы'),))\n",
      "Parse(word='бэ', tag=OpencorporaTag('UNKN'), normal_form='бэ', score=1.0, methods_stack=((<UnknAnalyzer>, 'бэ'),))\n",
      "Parse(word='вэ', tag=OpencorporaTag('UNKN'), normal_form='вэ', score=1.0, methods_stack=((<UnknAnalyzer>, 'вэ'),))\n",
      "Parse(word='ол', tag=OpencorporaTag('UNKN'), normal_form='ол', score=1.0, methods_stack=((<UnknAnalyzer>, 'ол'),))\n",
      "Parse(word='хав', tag=OpencorporaTag('UNKN'), normal_form='хав', score=1.0, methods_stack=((<UnknAnalyzer>, 'хав'),))\n",
      "Parse(word='ю', tag=OpencorporaTag('UNKN'), normal_form='ю', score=1.0, methods_stack=((<UnknAnalyzer>, 'ю'),))\n",
      "Parse(word='ё', tag=OpencorporaTag('UNKN'), normal_form='ё', score=1.0, methods_stack=((<UnknAnalyzer>, 'ё'),))\n",
      "Parse(word='ево', tag=OpencorporaTag('UNKN'), normal_form='ево', score=1.0, methods_stack=((<UnknAnalyzer>, 'ево'),))\n",
      "Parse(word='мэй', tag=OpencorporaTag('UNKN'), normal_form='мэй', score=1.0, methods_stack=((<UnknAnalyzer>, 'мэй'),))\n"
     ]
    },
    {
     "name": "stderr",
     "output_type": "stream",
     "text": [
      "2017-05-08 02:10:21,241 : INFO : loading projection weights from c:/data/ruscorpora_1_300_10.bin.gz\n"
     ]
    },
    {
     "name": "stdout",
     "output_type": "stream",
     "text": [
      "Parse(word='рёк', tag=OpencorporaTag('UNKN'), normal_form='рёк', score=1.0, methods_stack=((<UnknAnalyzer>, 'рёк'),))\n",
      "Parse(word='ево', tag=OpencorporaTag('UNKN'), normal_form='ево', score=1.0, methods_stack=((<UnknAnalyzer>, 'ево'),))\n",
      "loading w2v_model...\n"
     ]
    },
    {
     "name": "stderr",
     "output_type": "stream",
     "text": [
      "2017-05-08 02:10:29,873 : INFO : loaded (184973, 300) matrix from c:/data/ruscorpora_1_300_10.bin.gz\n"
     ]
    },
    {
     "name": "stdout",
     "output_type": "stream",
     "text": [
      "word2vec model 'c:/data/ruscorpora_1_300_10.bin.gz' loaded\n",
      "model is compiled\n"
     ]
    }
   ],
   "source": [
    "pm = PoemsModel()\n",
    "\n",
    "poems_file = 'poems.txt'\n",
    "w2v_file = 'c:/data/ruscorpora_1_300_10.bin.gz'\n",
    "pm.compile(poems_file, w2v_file)"
   ]
  },
  {
   "cell_type": "code",
   "execution_count": 3,
   "metadata": {
    "collapsed": false
   },
   "outputs": [
    {
     "data": {
      "text/plain": [
       "['год_NOUN',\n",
       " 'урок_NOUN',\n",
       " 'стих_NOUN',\n",
       " 'обязать_VERB',\n",
       " 'понимать_VERB',\n",
       " 'весь_ADJ',\n",
       " 'депрессия_NOUN',\n",
       " 'похмелье_NOUN',\n",
       " 'поэт_NOUN',\n",
       " 'голова_NOUN',\n",
       " 'прийти_VERB']"
      ]
     },
     "execution_count": 3,
     "metadata": {},
     "output_type": "execute_result"
    }
   ],
   "source": [
    "pm.bags[3]"
   ]
  },
  {
   "cell_type": "code",
   "execution_count": 9,
   "metadata": {
    "collapsed": false
   },
   "outputs": [
    {
     "data": {
      "text/plain": [
       "['снип::снап_NOUN',\n",
       " 'ебло_NOUN',\n",
       " 'отмучаться_VERB',\n",
       " 'выдуматься_VERB',\n",
       " 'думать_VERB',\n",
       " 'финит::ля_NOUN',\n",
       " 'ледик_NOUN',\n",
       " 'низзя_ADV',\n",
       " 'таюшка_NOUN',\n",
       " 'бернович_NOUN']"
      ]
     },
     "execution_count": 9,
     "metadata": {},
     "output_type": "execute_result"
    }
   ],
   "source": [
    "pm.associations[3]"
   ]
  },
  {
   "cell_type": "code",
   "execution_count": 13,
   "metadata": {
    "collapsed": false
   },
   "outputs": [
    {
     "data": {
      "text/plain": [
       "[('осознавать_VERB', 0.5779431462287903),\n",
       " ('дислексия_NOUN', 0.5572202801704407),\n",
       " ('риммусик_NOUN', 0.5544271469116211),\n",
       " ('шупер_NOUN', 0.5347235798835754),\n",
       " ('мерехлюндия_NOUN', 0.52580726146698),\n",
       " ('думать_VERB', 0.5255873799324036),\n",
       " ('абстинентный::синдром_NOUN', 0.5245497822761536),\n",
       " ('финит::ля_NOUN', 0.5236601233482361),\n",
       " ('отмучаться_VERB', 0.51850426197052),\n",
       " ('хочеться_ADV', 0.5160387754440308)]"
      ]
     },
     "execution_count": 13,
     "metadata": {},
     "output_type": "execute_result"
    }
   ],
   "source": [
    "pm.w2v.most_similar(positive=['урок_NOUN', 'понимать_VERB', 'депрессия_NOUN'])"
   ]
  },
  {
   "cell_type": "code",
   "execution_count": 3,
   "metadata": {
    "collapsed": true
   },
   "outputs": [],
   "source": [
    "pm.write('poems_model.pickle')"
   ]
  },
  {
   "cell_type": "code",
   "execution_count": 6,
   "metadata": {
    "collapsed": false
   },
   "outputs": [
    {
     "name": "stdout",
     "output_type": "stream",
     "text": [
      "reading pickle poems model...\n",
      "vectorizing model...\n",
      "model is loaded\n"
     ]
    },
    {
     "data": {
      "text/plain": [
       "['дрожал у адвоката голос\\nрыдали судьи плакал зал\\nи подсудимый сам поверил\\nне крал\\n',\n",
       " 'нет в шоколаде шоколада\\nдавно нет мяса в колбасе\\nстановится чуть чуть тревожно\\nа вдруг и в людях нет людей\\n',\n",
       " 'лишает сна срывает крышу\\nи переводит речь на мат\\nнезапихуемость идеи\\nв формат\\n',\n",
       " 'в двенадцать лет ты на уроке\\nв стихе обязан понимать\\nвсе что в депрессии с похмелья\\nпоэту в голову пришло\\n',\n",
       " 'я вежлив и предельно скромен\\nумеренно духовен мил\\nнеглуп имею чувство такта\\nблагослови меня господь\\n',\n",
       " 'я пью ты пьёшь мы пьём вы пьёте\\nспрягал глагол уныло класс\\nа получился о россии\\nрассказ\\n',\n",
       " 'о подозрительных предметах\\nя машинисту сообщил\\nдва бильбоке одна клепсидра\\nжабо спирограф и бювар\\n',\n",
       " 'приём диспетчер что нам делать\\nу нас заклинило шасси\\nспокойно повторяйте иже\\nеси\\n',\n",
       " 'без ложной скромности замечу\\nя гениальный человек\\nа то что ничего не создал\\nтак я был занят и болел\\n',\n",
       " 'я ненавижу вас так долго\\nчто в принципе уже забыл\\nи почему вас ненавижу\\nи кто вы собственно такой\\n']"
      ]
     },
     "execution_count": 6,
     "metadata": {},
     "output_type": "execute_result"
    }
   ],
   "source": [
    "pm.poems = []\n",
    "pm.read('poems_model.pickle')\n",
    "pm.poems[:10]"
   ]
  },
  {
   "cell_type": "markdown",
   "metadata": {},
   "source": [
    "## Load"
   ]
  },
  {
   "cell_type": "code",
   "execution_count": 7,
   "metadata": {
    "collapsed": false
   },
   "outputs": [
    {
     "name": "stderr",
     "output_type": "stream",
     "text": [
      "2017-05-08 02:12:52,333 : INFO : loading projection weights from c:/data/ruscorpora_1_300_10.bin.gz\n"
     ]
    },
    {
     "name": "stdout",
     "output_type": "stream",
     "text": [
      "loading w2v_model...\n"
     ]
    },
    {
     "name": "stderr",
     "output_type": "stream",
     "text": [
      "2017-05-08 02:13:00,947 : INFO : loaded (184973, 300) matrix from c:/data/ruscorpora_1_300_10.bin.gz\n"
     ]
    },
    {
     "name": "stdout",
     "output_type": "stream",
     "text": [
      "word2vec model 'c:/data/ruscorpora_1_300_10.bin.gz' loaded\n",
      "reading pickle poems model...\n",
      "vectorizing model...\n",
      "model is loaded\n"
     ]
    }
   ],
   "source": [
    "from poems_model import PoemsModel\n",
    "\n",
    "poems_data_file = 'poems_model.pickle'\n",
    "w2v_file = 'c:/data/ruscorpora_1_300_10.bin.gz'\n",
    "pm = PoemsModel(poems_data_file, w2v_file)"
   ]
  },
  {
   "cell_type": "code",
   "execution_count": 8,
   "metadata": {
    "collapsed": false
   },
   "outputs": [
    {
     "data": {
      "text/plain": [
       "['дрожал у адвоката голос\\nрыдали судьи плакал зал\\nи подсудимый сам поверил\\nне крал\\n',\n",
       " 'нет в шоколаде шоколада\\nдавно нет мяса в колбасе\\nстановится чуть чуть тревожно\\nа вдруг и в людях нет людей\\n',\n",
       " 'лишает сна срывает крышу\\nи переводит речь на мат\\nнезапихуемость идеи\\nв формат\\n',\n",
       " 'в двенадцать лет ты на уроке\\nв стихе обязан понимать\\nвсе что в депрессии с похмелья\\nпоэту в голову пришло\\n',\n",
       " 'я вежлив и предельно скромен\\nумеренно духовен мил\\nнеглуп имею чувство такта\\nблагослови меня господь\\n',\n",
       " 'я пью ты пьёшь мы пьём вы пьёте\\nспрягал глагол уныло класс\\nа получился о россии\\nрассказ\\n',\n",
       " 'о подозрительных предметах\\nя машинисту сообщил\\nдва бильбоке одна клепсидра\\nжабо спирограф и бювар\\n',\n",
       " 'приём диспетчер что нам делать\\nу нас заклинило шасси\\nспокойно повторяйте иже\\nеси\\n',\n",
       " 'без ложной скромности замечу\\nя гениальный человек\\nа то что ничего не создал\\nтак я был занят и болел\\n',\n",
       " 'я ненавижу вас так долго\\nчто в принципе уже забыл\\nи почему вас ненавижу\\nи кто вы собственно такой\\n']"
      ]
     },
     "execution_count": 8,
     "metadata": {},
     "output_type": "execute_result"
    }
   ],
   "source": [
    "pm.poems[:10]"
   ]
  },
  {
   "cell_type": "code",
   "execution_count": 9,
   "metadata": {
    "collapsed": false
   },
   "outputs": [
    {
     "data": {
      "text/plain": [
       "[('олеся шлёпает по попе\\nуползший с грядки кабачок\\nиграй с овсом и баклажаном\\nа к патиссонам ни ногой\\n',\n",
       "  0.29970310290884405),\n",
       " ('седая мама в магазине\\nберет некрупный кабачок\\nбанан початок кукурузы\\nфонарик дилдо огурец\\n',\n",
       "  0.28947485227981368),\n",
       " ('ты должен думать как картошка\\nусатый повар разъяснял\\nкак нож как лук а поваренок\\nкак мясо чувствовал себя\\n',\n",
       "  0.27010311097326051),\n",
       " ('алёна бросив взгляд в пространство\\nклубящееся за столом\\nна стол кастрюлю выставляет\\nкрошит морковь картошку лук\\n',\n",
       "  0.26522035598754884),\n",
       " ('в стакане яблочного сока\\nкусочек солнца запах трав\\nпот рыжих конопатых девок\\nи бригадира сочный мат\\n',\n",
       "  0.26505853887685604)]"
      ]
     },
     "execution_count": 9,
     "metadata": {},
     "output_type": "execute_result"
    }
   ],
   "source": [
    "pm.similar_poems('петрушка')"
   ]
  }
 ],
 "metadata": {
  "kernelspec": {
   "display_name": "Python 3",
   "language": "python",
   "name": "python3"
  },
  "language_info": {
   "codemirror_mode": {
    "name": "ipython",
    "version": 3
   },
   "file_extension": ".py",
   "mimetype": "text/x-python",
   "name": "python",
   "nbconvert_exporter": "python",
   "pygments_lexer": "ipython3",
   "version": "3.6.0"
  }
 },
 "nbformat": 4,
 "nbformat_minor": 0
}
