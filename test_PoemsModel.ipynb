{
 "cells": [
  {
   "cell_type": "markdown",
   "metadata": {},
   "source": [
    "## Compile model"
   ]
  },
  {
   "cell_type": "code",
   "execution_count": 1,
   "metadata": {
    "scrolled": true
   },
   "outputs": [
    {
     "name": "stderr",
     "output_type": "stream",
     "text": [
      "C:\\Anaconda3\\lib\\site-packages\\gensim\\utils.py:860: UserWarning: detected Windows; aliasing chunkize to chunkize_serial\n",
      "  warnings.warn(\"detected Windows; aliasing chunkize to chunkize_serial\")\n",
      "Slow version of gensim.models.doc2vec is being used\n"
     ]
    },
    {
     "name": "stdout",
     "output_type": "stream",
     "text": [
      "poem count: 7509\n",
      "making word bags...\n",
      "Parse(word='еси', tag=OpencorporaTag('UNKN'), normal_form='еси', score=1.0, methods_stack=((<UnknAnalyzer>, 'еси'),))\n",
      "Parse(word='хэ', tag=OpencorporaTag('UNKN'), normal_form='хэ', score=1.0, methods_stack=((<UnknAnalyzer>, 'хэ'),))\n",
      "Parse(word='ёг', tag=OpencorporaTag('UNKN'), normal_form='ёг', score=1.0, methods_stack=((<UnknAnalyzer>, 'ёг'),))\n",
      "Parse(word='чо', tag=OpencorporaTag('UNKN'), normal_form='чо', score=1.0, methods_stack=((<UnknAnalyzer>, 'чо'),))\n",
      "Parse(word='чо', tag=OpencorporaTag('UNKN'), normal_form='чо', score=1.0, methods_stack=((<UnknAnalyzer>, 'чо'),))\n",
      "Parse(word='нью', tag=OpencorporaTag('UNKN'), normal_form='нью', score=1.0, methods_stack=((<UnknAnalyzer>, 'нью'),))\n",
      "Parse(word='сэн', tag=OpencorporaTag('UNKN'), normal_form='сэн', score=1.0, methods_stack=((<UnknAnalyzer>, 'сэн'),))\n",
      "Parse(word='нео', tag=OpencorporaTag('UNKN'), normal_form='нео', score=1.0, methods_stack=((<UnknAnalyzer>, 'нео'),))\n",
      "Parse(word='ща', tag=OpencorporaTag('UNKN'), normal_form='ща', score=1.0, methods_stack=((<UnknAnalyzer>, 'ща'),))\n",
      "Parse(word='зай', tag=OpencorporaTag('UNKN'), normal_form='зай', score=1.0, methods_stack=((<UnknAnalyzer>, 'зай'),))\n",
      "Parse(word='дэ', tag=OpencorporaTag('UNKN'), normal_form='дэ', score=1.0, methods_stack=((<UnknAnalyzer>, 'дэ'),))\n",
      "Parse(word='тэ', tag=OpencorporaTag('UNKN'), normal_form='тэ', score=1.0, methods_stack=((<UnknAnalyzer>, 'тэ'),))\n",
      "Parse(word='зачот', tag=OpencorporaTag('UNKN'), normal_form='зачот', score=1.0, methods_stack=((<UnknAnalyzer>, 'чот'), (<KnownPrefixAnalyzer>, 'за')))\n",
      "Parse(word='шён', tag=OpencorporaTag('UNKN'), normal_form='шён', score=1.0, methods_stack=((<UnknAnalyzer>, 'шён'),))\n",
      "Parse(word='йа', tag=OpencorporaTag('UNKN'), normal_form='йа', score=1.0, methods_stack=((<UnknAnalyzer>, 'йа'),))\n",
      "Parse(word='недоёба', tag=OpencorporaTag('UNKN'), normal_form='недоёба', score=1.0, methods_stack=((<UnknAnalyzer>, 'ёба'), (<KnownPrefixAnalyzer>, 'недо')))\n",
      "Parse(word='ещо', tag=OpencorporaTag('UNKN'), normal_form='ещо', score=1.0, methods_stack=((<UnknAnalyzer>, 'ещо'),))\n",
      "Parse(word='ю', tag=OpencorporaTag('UNKN'), normal_form='ю', score=1.0, methods_stack=((<UnknAnalyzer>, 'ю'),))\n",
      "Parse(word='чом', tag=OpencorporaTag('UNKN'), normal_form='чом', score=1.0, methods_stack=((<UnknAnalyzer>, 'чом'),))\n",
      "Parse(word='жэ', tag=OpencorporaTag('UNKN'), normal_form='жэ', score=1.0, methods_stack=((<UnknAnalyzer>, 'жэ'),))\n",
      "Parse(word='чмо', tag=OpencorporaTag('UNKN'), normal_form='чмо', score=1.0, methods_stack=((<UnknAnalyzer>, 'чмо'),))\n",
      "Parse(word='ево', tag=OpencorporaTag('UNKN'), normal_form='ево', score=1.0, methods_stack=((<UnknAnalyzer>, 'ево'),))\n",
      "Parse(word='ка', tag=OpencorporaTag('UNKN'), normal_form='ка', score=1.0, methods_stack=((<UnknAnalyzer>, 'ка'),))\n",
      "Parse(word='ещо', tag=OpencorporaTag('UNKN'), normal_form='ещо', score=1.0, methods_stack=((<UnknAnalyzer>, 'ещо'),))\n",
      "Parse(word='кэ', tag=OpencorporaTag('UNKN'), normal_form='кэ', score=1.0, methods_stack=((<UnknAnalyzer>, 'кэ'),))\n",
      "Parse(word='ка', tag=OpencorporaTag('UNKN'), normal_form='ка', score=1.0, methods_stack=((<UnknAnalyzer>, 'ка'),))\n",
      "Parse(word='ду', tag=OpencorporaTag('UNKN'), normal_form='ду', score=1.0, methods_stack=((<UnknAnalyzer>, 'ду'),))\n",
      "Parse(word='ду', tag=OpencorporaTag('UNKN'), normal_form='ду', score=1.0, methods_stack=((<UnknAnalyzer>, 'ду'),))\n",
      "Parse(word='ё', tag=OpencorporaTag('UNKN'), normal_form='ё', score=1.0, methods_stack=((<UnknAnalyzer>, 'ё'),))\n",
      "Parse(word='жэ', tag=OpencorporaTag('UNKN'), normal_form='жэ', score=1.0, methods_stack=((<UnknAnalyzer>, 'жэ'),))\n",
      "Parse(word='ещо', tag=OpencorporaTag('UNKN'), normal_form='ещо', score=1.0, methods_stack=((<UnknAnalyzer>, 'ещо'),))\n",
      "Parse(word='ок', tag=OpencorporaTag('UNKN'), normal_form='ок', score=1.0, methods_stack=((<UnknAnalyzer>, 'ок'),))\n",
      "Parse(word='гоа', tag=OpencorporaTag('UNKN'), normal_form='гоа', score=1.0, methods_stack=((<UnknAnalyzer>, 'гоа'),))\n",
      "Parse(word='дэ', tag=OpencorporaTag('UNKN'), normal_form='дэ', score=1.0, methods_stack=((<UnknAnalyzer>, 'дэ'),))\n",
      "Parse(word='ю', tag=OpencorporaTag('UNKN'), normal_form='ю', score=1.0, methods_stack=((<UnknAnalyzer>, 'ю'),))\n",
      "Parse(word='оф', tag=OpencorporaTag('UNKN'), normal_form='оф', score=1.0, methods_stack=((<UnknAnalyzer>, 'оф'),))\n",
      "Parse(word='ка', tag=OpencorporaTag('UNKN'), normal_form='ка', score=1.0, methods_stack=((<UnknAnalyzer>, 'ка'),))\n",
      "Parse(word='ево', tag=OpencorporaTag('UNKN'), normal_form='ево', score=1.0, methods_stack=((<UnknAnalyzer>, 'ево'),))\n",
      "Parse(word='небесица', tag=OpencorporaTag('UNKN'), normal_form='небесица', score=1.0, methods_stack=((<UnknAnalyzer>, 'ица'), (<KnownPrefixAnalyzer>, 'бес'), (<KnownPrefixAnalyzer>, 'не')))\n",
      "Parse(word='бесица', tag=OpencorporaTag('UNKN'), normal_form='бесица', score=1.0, methods_stack=((<UnknAnalyzer>, 'ица'), (<KnownPrefixAnalyzer>, 'бес')))\n",
      "Parse(word='ево', tag=OpencorporaTag('UNKN'), normal_form='ево', score=1.0, methods_stack=((<UnknAnalyzer>, 'ево'),))\n",
      "Parse(word='ын', tag=OpencorporaTag('UNKN'), normal_form='ын', score=1.0, methods_stack=((<UnknAnalyzer>, 'ын'),))\n",
      "Parse(word='ево', tag=OpencorporaTag('UNKN'), normal_form='ево', score=1.0, methods_stack=((<UnknAnalyzer>, 'ево'),))\n",
      "Parse(word='лиш', tag=OpencorporaTag('UNKN'), normal_form='лиш', score=1.0, methods_stack=((<UnknAnalyzer>, 'лиш'),))\n",
      "Parse(word='ево', tag=OpencorporaTag('UNKN'), normal_form='ево', score=1.0, methods_stack=((<UnknAnalyzer>, 'ево'),))\n",
      "Parse(word='ю', tag=OpencorporaTag('UNKN'), normal_form='ю', score=1.0, methods_stack=((<UnknAnalyzer>, 'ю'),))\n",
      "Parse(word='р', tag=OpencorporaTag('UNKN'), normal_form='р', score=1.0, methods_stack=((<UnknAnalyzer>, 'р'),))\n",
      "Parse(word='лэй', tag=OpencorporaTag('UNKN'), normal_form='лэй', score=1.0, methods_stack=((<UnknAnalyzer>, 'лэй'),))\n",
      "Parse(word='ево', tag=OpencorporaTag('UNKN'), normal_form='ево', score=1.0, methods_stack=((<UnknAnalyzer>, 'ево'),))\n",
      "Parse(word='ево', tag=OpencorporaTag('UNKN'), normal_form='ево', score=1.0, methods_stack=((<UnknAnalyzer>, 'ево'),))\n",
      "Parse(word='спа', tag=OpencorporaTag('UNKN'), normal_form='спа', score=1.0, methods_stack=((<UnknAnalyzer>, 'спа'),))\n",
      "Parse(word='бла', tag=OpencorporaTag('UNKN'), normal_form='бла', score=1.0, methods_stack=((<UnknAnalyzer>, 'бла'),))\n",
      "Parse(word='бла', tag=OpencorporaTag('UNKN'), normal_form='бла', score=1.0, methods_stack=((<UnknAnalyzer>, 'бла'),))\n",
      "Parse(word='бла', tag=OpencorporaTag('UNKN'), normal_form='бла', score=1.0, methods_stack=((<UnknAnalyzer>, 'бла'),))\n",
      "Parse(word='бла', tag=OpencorporaTag('UNKN'), normal_form='бла', score=1.0, methods_stack=((<UnknAnalyzer>, 'бла'),))\n",
      "Parse(word='бла', tag=OpencorporaTag('UNKN'), normal_form='бла', score=1.0, methods_stack=((<UnknAnalyzer>, 'бла'),))\n",
      "Parse(word='бла', tag=OpencorporaTag('UNKN'), normal_form='бла', score=1.0, methods_stack=((<UnknAnalyzer>, 'бла'),))\n",
      "Parse(word='бла', tag=OpencorporaTag('UNKN'), normal_form='бла', score=1.0, methods_stack=((<UnknAnalyzer>, 'бла'),))\n",
      "Parse(word='бла', tag=OpencorporaTag('UNKN'), normal_form='бла', score=1.0, methods_stack=((<UnknAnalyzer>, 'бла'),))\n",
      "Parse(word='ево', tag=OpencorporaTag('UNKN'), normal_form='ево', score=1.0, methods_stack=((<UnknAnalyzer>, 'ево'),))\n",
      "Parse(word='мощ', tag=OpencorporaTag('UNKN'), normal_form='мощ', score=1.0, methods_stack=((<UnknAnalyzer>, 'мощ'),))\n",
      "Parse(word='че', tag=OpencorporaTag('UNKN'), normal_form='че', score=1.0, methods_stack=((<UnknAnalyzer>, 'че'),))\n",
      "Parse(word='дожик', tag=OpencorporaTag('UNKN'), normal_form='дожик', score=1.0, methods_stack=((<UnknAnalyzer>, 'жик'), (<KnownPrefixAnalyzer>, 'до')))\n",
      "Parse(word='жок', tag=OpencorporaTag('UNKN'), normal_form='жок', score=1.0, methods_stack=((<UnknAnalyzer>, 'жок'),))\n",
      "Parse(word='ду', tag=OpencorporaTag('UNKN'), normal_form='ду', score=1.0, methods_stack=((<UnknAnalyzer>, 'ду'),))\n",
      "Parse(word='ю', tag=OpencorporaTag('UNKN'), normal_form='ю', score=1.0, methods_stack=((<UnknAnalyzer>, 'ю'),))\n",
      "Parse(word='ду', tag=OpencorporaTag('UNKN'), normal_form='ду', score=1.0, methods_stack=((<UnknAnalyzer>, 'ду'),))\n",
      "Parse(word='ещо', tag=OpencorporaTag('UNKN'), normal_form='ещо', score=1.0, methods_stack=((<UnknAnalyzer>, 'ещо'),))\n",
      "Parse(word='лю', tag=OpencorporaTag('UNKN'), normal_form='лю', score=1.0, methods_stack=((<UnknAnalyzer>, 'лю'),))\n"
     ]
    },
    {
     "name": "stdout",
     "output_type": "stream",
     "text": [
      "Parse(word='сос', tag=OpencorporaTag('UNKN'), normal_form='сос', score=1.0, methods_stack=((<UnknAnalyzer>, 'сос'),))\n",
      "Parse(word='реч', tag=OpencorporaTag('UNKN'), normal_form='реч', score=1.0, methods_stack=((<UnknAnalyzer>, 'реч'),))\n",
      "Parse(word='чом', tag=OpencorporaTag('UNKN'), normal_form='чом', score=1.0, methods_stack=((<UnknAnalyzer>, 'чом'),))\n",
      "Parse(word='тыц', tag=OpencorporaTag('UNKN'), normal_form='тыц', score=1.0, methods_stack=((<UnknAnalyzer>, 'тыц'),))\n",
      "Parse(word='тыц', tag=OpencorporaTag('UNKN'), normal_form='тыц', score=1.0, methods_stack=((<UnknAnalyzer>, 'тыц'),))\n",
      "Parse(word='тыц', tag=OpencorporaTag('UNKN'), normal_form='тыц', score=1.0, methods_stack=((<UnknAnalyzer>, 'тыц'),))\n",
      "Parse(word='тыц', tag=OpencorporaTag('UNKN'), normal_form='тыц', score=1.0, methods_stack=((<UnknAnalyzer>, 'тыц'),))\n",
      "Parse(word='бэ', tag=OpencorporaTag('UNKN'), normal_form='бэ', score=1.0, methods_stack=((<UnknAnalyzer>, 'бэ'),))\n",
      "Parse(word='общемто', tag=OpencorporaTag('UNKN'), normal_form='общемто', score=1.0, methods_stack=((<UnknAnalyzer>, 'мто'), (<KnownPrefixAnalyzer>, 'обще')))\n",
      "Parse(word='ё', tag=OpencorporaTag('UNKN'), normal_form='ё', score=1.0, methods_stack=((<UnknAnalyzer>, 'ё'),))\n",
      "Parse(word='ок', tag=OpencorporaTag('UNKN'), normal_form='ок', score=1.0, methods_stack=((<UnknAnalyzer>, 'ок'),))\n",
      "Parse(word='постить', tag=OpencorporaTag('UNKN'), normal_form='постить', score=1.0, methods_stack=((<UnknAnalyzer>, 'ить'), (<KnownPrefixAnalyzer>, 'пост')))\n",
      "Parse(word='ка', tag=OpencorporaTag('UNKN'), normal_form='ка', score=1.0, methods_stack=((<UnknAnalyzer>, 'ка'),))\n",
      "Parse(word='бэ', tag=OpencorporaTag('UNKN'), normal_form='бэ', score=1.0, methods_stack=((<UnknAnalyzer>, 'бэ'),))\n",
      "Parse(word='дэ', tag=OpencorporaTag('UNKN'), normal_form='дэ', score=1.0, methods_stack=((<UnknAnalyzer>, 'дэ'),))\n",
      "Parse(word='ка', tag=OpencorporaTag('UNKN'), normal_form='ка', score=1.0, methods_stack=((<UnknAnalyzer>, 'ка'),))\n",
      "Parse(word='ево', tag=OpencorporaTag('UNKN'), normal_form='ево', score=1.0, methods_stack=((<UnknAnalyzer>, 'ево'),))\n",
      "Parse(word='йож', tag=OpencorporaTag('UNKN'), normal_form='йож', score=1.0, methods_stack=((<UnknAnalyzer>, 'йож'),))\n",
      "Parse(word='ево', tag=OpencorporaTag('UNKN'), normal_form='ево', score=1.0, methods_stack=((<UnknAnalyzer>, 'ево'),))\n",
      "Parse(word='тум', tag=OpencorporaTag('UNKN'), normal_form='тум', score=1.0, methods_stack=((<UnknAnalyzer>, 'тум'),))\n",
      "Parse(word='тум', tag=OpencorporaTag('UNKN'), normal_form='тум', score=1.0, methods_stack=((<UnknAnalyzer>, 'тум'),))\n",
      "Parse(word='тум', tag=OpencorporaTag('UNKN'), normal_form='тум', score=1.0, methods_stack=((<UnknAnalyzer>, 'тум'),))\n",
      "Parse(word='тум', tag=OpencorporaTag('UNKN'), normal_form='тум', score=1.0, methods_stack=((<UnknAnalyzer>, 'тум'),))\n",
      "Parse(word='тум', tag=OpencorporaTag('UNKN'), normal_form='тум', score=1.0, methods_stack=((<UnknAnalyzer>, 'тум'),))\n",
      "Parse(word='тум', tag=OpencorporaTag('UNKN'), normal_form='тум', score=1.0, methods_stack=((<UnknAnalyzer>, 'тум'),))\n",
      "Parse(word='жеж', tag=OpencorporaTag('UNKN'), normal_form='жеж', score=1.0, methods_stack=((<UnknAnalyzer>, 'жеж'),))\n",
      "Parse(word='бэ', tag=OpencorporaTag('UNKN'), normal_form='бэ', score=1.0, methods_stack=((<UnknAnalyzer>, 'бэ'),))\n",
      "Parse(word='ка', tag=OpencorporaTag('UNKN'), normal_form='ка', score=1.0, methods_stack=((<UnknAnalyzer>, 'ка'),))\n",
      "Parse(word='ся', tag=OpencorporaTag('UNKN'), normal_form='ся', score=1.0, methods_stack=((<UnknAnalyzer>, 'ся'),))\n",
      "Parse(word='бох', tag=OpencorporaTag('UNKN'), normal_form='бох', score=1.0, methods_stack=((<UnknAnalyzer>, 'бох'),))\n",
      "Parse(word='вэ', tag=OpencorporaTag('UNKN'), normal_form='вэ', score=1.0, methods_stack=((<UnknAnalyzer>, 'вэ'),))\n",
      "Parse(word='нэ', tag=OpencorporaTag('UNKN'), normal_form='нэ', score=1.0, methods_stack=((<UnknAnalyzer>, 'нэ'),))\n",
      "Parse(word='нэ', tag=OpencorporaTag('UNKN'), normal_form='нэ', score=1.0, methods_stack=((<UnknAnalyzer>, 'нэ'),))\n",
      "Parse(word='ка', tag=OpencorporaTag('UNKN'), normal_form='ка', score=1.0, methods_stack=((<UnknAnalyzer>, 'ка'),))\n",
      "Parse(word='ка', tag=OpencorporaTag('UNKN'), normal_form='ка', score=1.0, methods_stack=((<UnknAnalyzer>, 'ка'),))\n",
      "Parse(word='дэ', tag=OpencorporaTag('UNKN'), normal_form='дэ', score=1.0, methods_stack=((<UnknAnalyzer>, 'дэ'),))\n",
      "Parse(word='чук', tag=OpencorporaTag('UNKN'), normal_form='чук', score=1.0, methods_stack=((<UnknAnalyzer>, 'чук'),))\n",
      "Parse(word='био', tag=OpencorporaTag('UNKN'), normal_form='био', score=1.0, methods_stack=((<UnknAnalyzer>, 'био'),))\n",
      "Parse(word='жэ', tag=OpencorporaTag('UNKN'), normal_form='жэ', score=1.0, methods_stack=((<UnknAnalyzer>, 'жэ'),))\n",
      "Parse(word='кэ', tag=OpencorporaTag('UNKN'), normal_form='кэ', score=1.0, methods_stack=((<UnknAnalyzer>, 'кэ'),))\n",
      "Parse(word='ещо', tag=OpencorporaTag('UNKN'), normal_form='ещо', score=1.0, methods_stack=((<UnknAnalyzer>, 'ещо'),))\n",
      "Parse(word='ка', tag=OpencorporaTag('UNKN'), normal_form='ка', score=1.0, methods_stack=((<UnknAnalyzer>, 'ка'),))\n",
      "Parse(word='ещо', tag=OpencorporaTag('UNKN'), normal_form='ещо', score=1.0, methods_stack=((<UnknAnalyzer>, 'ещо'),))\n",
      "Parse(word='йу', tag=OpencorporaTag('UNKN'), normal_form='йу', score=1.0, methods_stack=((<UnknAnalyzer>, 'йу'),))\n",
      "Parse(word='ево', tag=OpencorporaTag('UNKN'), normal_form='ево', score=1.0, methods_stack=((<UnknAnalyzer>, 'ево'),))\n",
      "Parse(word='ци', tag=OpencorporaTag('UNKN'), normal_form='ци', score=1.0, methods_stack=((<UnknAnalyzer>, 'ци'),))\n",
      "Parse(word='пэ', tag=OpencorporaTag('UNKN'), normal_form='пэ', score=1.0, methods_stack=((<UnknAnalyzer>, 'пэ'),))\n",
      "Parse(word='тэ', tag=OpencorporaTag('UNKN'), normal_form='тэ', score=1.0, methods_stack=((<UnknAnalyzer>, 'тэ'),))\n",
      "Parse(word='эл', tag=OpencorporaTag('UNKN'), normal_form='эл', score=1.0, methods_stack=((<UnknAnalyzer>, 'эл'),))\n",
      "Parse(word='лиш', tag=OpencorporaTag('UNKN'), normal_form='лиш', score=1.0, methods_stack=((<UnknAnalyzer>, 'лиш'),))\n",
      "Parse(word='бэ', tag=OpencorporaTag('UNKN'), normal_form='бэ', score=1.0, methods_stack=((<UnknAnalyzer>, 'бэ'),))\n",
      "Parse(word='ла', tag=OpencorporaTag('UNKN'), normal_form='ла', score=1.0, methods_stack=((<UnknAnalyzer>, 'ла'),))\n",
      "Parse(word='ка', tag=OpencorporaTag('UNKN'), normal_form='ка', score=1.0, methods_stack=((<UnknAnalyzer>, 'ка'),))\n",
      "Parse(word='ево', tag=OpencorporaTag('UNKN'), normal_form='ево', score=1.0, methods_stack=((<UnknAnalyzer>, 'ево'),))\n",
      "Parse(word='доч', tag=OpencorporaTag('UNKN'), normal_form='доч', score=1.0, methods_stack=((<UnknAnalyzer>, 'доч'),))\n",
      "Parse(word='ево', tag=OpencorporaTag('UNKN'), normal_form='ево', score=1.0, methods_stack=((<UnknAnalyzer>, 'ево'),))\n",
      "Parse(word='пэо', tag=OpencorporaTag('UNKN'), normal_form='пэо', score=1.0, methods_stack=((<UnknAnalyzer>, 'пэо'),))\n",
      "Parse(word='жэ', tag=OpencorporaTag('UNKN'), normal_form='жэ', score=1.0, methods_stack=((<UnknAnalyzer>, 'жэ'),))\n",
      "Parse(word='олу', tag=OpencorporaTag('UNKN'), normal_form='олу', score=1.0, methods_stack=((<UnknAnalyzer>, 'олу'),))\n",
      "Parse(word='ево', tag=OpencorporaTag('UNKN'), normal_form='ево', score=1.0, methods_stack=((<UnknAnalyzer>, 'ево'),))\n",
      "Parse(word='яб', tag=OpencorporaTag('UNKN'), normal_form='яб', score=1.0, methods_stack=((<UnknAnalyzer>, 'яб'),))\n",
      "Parse(word='нью', tag=OpencorporaTag('UNKN'), normal_form='нью', score=1.0, methods_stack=((<UnknAnalyzer>, 'нью'),))\n",
      "Parse(word='че', tag=OpencorporaTag('UNKN'), normal_form='че', score=1.0, methods_stack=((<UnknAnalyzer>, 'че'),))\n",
      "Parse(word='юго', tag=OpencorporaTag('UNKN'), normal_form='юго', score=1.0, methods_stack=((<UnknAnalyzer>, 'юго'),))\n",
      "Parse(word='ш', tag=OpencorporaTag('UNKN'), normal_form='ш', score=1.0, methods_stack=((<UnknAnalyzer>, 'ш'),))\n",
      "Parse(word='ци', tag=OpencorporaTag('UNKN'), normal_form='ци', score=1.0, methods_stack=((<UnknAnalyzer>, 'ци'),))\n",
      "Parse(word='заебу', tag=OpencorporaTag('UNKN'), normal_form='заебу', score=1.0, methods_stack=((<UnknAnalyzer>, 'ебу'), (<KnownPrefixAnalyzer>, 'за')))\n",
      "Parse(word='бэ', tag=OpencorporaTag('UNKN'), normal_form='бэ', score=1.0, methods_stack=((<UnknAnalyzer>, 'бэ'),))\n",
      "Parse(word='кей', tag=OpencorporaTag('UNKN'), normal_form='кей', score=1.0, methods_stack=((<UnknAnalyzer>, 'кей'),))\n",
      "Parse(word='фер', tag=OpencorporaTag('UNKN'), normal_form='фер', score=1.0, methods_stack=((<UnknAnalyzer>, 'фер'),))\n",
      "Parse(word='тэ', tag=OpencorporaTag('UNKN'), normal_form='тэ', score=1.0, methods_stack=((<UnknAnalyzer>, 'тэ'),))\n"
     ]
    },
    {
     "name": "stdout",
     "output_type": "stream",
     "text": [
      "Parse(word='упс', tag=OpencorporaTag('UNKN'), normal_form='упс', score=1.0, methods_stack=((<UnknAnalyzer>, 'упс'),))\n",
      "Parse(word='ево', tag=OpencorporaTag('UNKN'), normal_form='ево', score=1.0, methods_stack=((<UnknAnalyzer>, 'ево'),))\n",
      "Parse(word='дожём', tag=OpencorporaTag('UNKN'), normal_form='дожём', score=1.0, methods_stack=((<UnknAnalyzer>, 'жём'), (<KnownPrefixAnalyzer>, 'до')))\n",
      "Parse(word='жон', tag=OpencorporaTag('UNKN'), normal_form='жон', score=1.0, methods_stack=((<UnknAnalyzer>, 'жон'),))\n",
      "Parse(word='энд', tag=OpencorporaTag('UNKN'), normal_form='энд', score=1.0, methods_stack=((<UnknAnalyzer>, 'энд'),))\n",
      "Parse(word='юэ', tag=OpencorporaTag('UNKN'), normal_form='юэ', score=1.0, methods_stack=((<UnknAnalyzer>, 'юэ'),))\n",
      "Parse(word='электронке', tag=OpencorporaTag('UNKN'), normal_form='электронке', score=1.0, methods_stack=((<UnknAnalyzer>, 'нке'), (<KnownPrefixAnalyzer>, 'электро')))\n",
      "Parse(word='че', tag=OpencorporaTag('UNKN'), normal_form='че', score=1.0, methods_stack=((<UnknAnalyzer>, 'че'),))\n",
      "Parse(word='мэм', tag=OpencorporaTag('UNKN'), normal_form='мэм', score=1.0, methods_stack=((<UnknAnalyzer>, 'мэм'),))\n",
      "Parse(word='чо', tag=OpencorporaTag('UNKN'), normal_form='чо', score=1.0, methods_stack=((<UnknAnalyzer>, 'чо'),))\n",
      "Parse(word='чо', tag=OpencorporaTag('UNKN'), normal_form='чо', score=1.0, methods_stack=((<UnknAnalyzer>, 'чо'),))\n",
      "Parse(word='самочка', tag=OpencorporaTag('UNKN'), normal_form='самочка', score=1.0, methods_stack=((<UnknAnalyzer>, 'чка'), (<KnownPrefixAnalyzer>, 'само')))\n",
      "Parse(word='чо', tag=OpencorporaTag('UNKN'), normal_form='чо', score=1.0, methods_stack=((<UnknAnalyzer>, 'чо'),))\n",
      "Parse(word='нал', tag=OpencorporaTag('UNKN'), normal_form='нал', score=1.0, methods_stack=((<UnknAnalyzer>, 'нал'),))\n",
      "Parse(word='ка', tag=OpencorporaTag('UNKN'), normal_form='ка', score=1.0, methods_stack=((<UnknAnalyzer>, 'ка'),))\n",
      "Parse(word='ок', tag=OpencorporaTag('UNKN'), normal_form='ок', score=1.0, methods_stack=((<UnknAnalyzer>, 'ок'),))\n",
      "Parse(word='бад', tag=OpencorporaTag('UNKN'), normal_form='бад', score=1.0, methods_stack=((<UnknAnalyzer>, 'бад'),))\n",
      "Parse(word='олл', tag=OpencorporaTag('UNKN'), normal_form='олл', score=1.0, methods_stack=((<UnknAnalyzer>, 'олл'),))\n",
      "Parse(word='жо', tag=OpencorporaTag('UNKN'), normal_form='жо', score=1.0, methods_stack=((<UnknAnalyzer>, 'жо'),))\n",
      "Parse(word='ху', tag=OpencorporaTag('UNKN'), normal_form='ху', score=1.0, methods_stack=((<UnknAnalyzer>, 'ху'),))\n",
      "Parse(word='ху', tag=OpencorporaTag('UNKN'), normal_form='ху', score=1.0, methods_stack=((<UnknAnalyzer>, 'ху'),))\n",
      "Parse(word='жо', tag=OpencorporaTag('UNKN'), normal_form='жо', score=1.0, methods_stack=((<UnknAnalyzer>, 'жо'),))\n",
      "Parse(word='зе', tag=OpencorporaTag('UNKN'), normal_form='зе', score=1.0, methods_stack=((<UnknAnalyzer>, 'зе'),))\n",
      "Parse(word='рио', tag=OpencorporaTag('UNKN'), normal_form='рио', score=1.0, methods_stack=((<UnknAnalyzer>, 'рио'),))\n",
      "Parse(word='кв', tag=OpencorporaTag('UNKN'), normal_form='кв', score=1.0, methods_stack=((<UnknAnalyzer>, 'кв'),))\n",
      "Parse(word='ру', tag=OpencorporaTag('UNKN'), normal_form='ру', score=1.0, methods_stack=((<UnknAnalyzer>, 'ру'),))\n",
      "Parse(word='сру', tag=OpencorporaTag('UNKN'), normal_form='сру', score=1.0, methods_stack=((<UnknAnalyzer>, 'сру'),))\n",
      "Parse(word='чё', tag=OpencorporaTag('UNKN'), normal_form='чё', score=1.0, methods_stack=((<UnknAnalyzer>, 'чё'),))\n",
      "Parse(word='гуф', tag=OpencorporaTag('UNKN'), normal_form='гуф', score=1.0, methods_stack=((<UnknAnalyzer>, 'гуф'),))\n",
      "Parse(word='жы', tag=OpencorporaTag('UNKN'), normal_form='жы', score=1.0, methods_stack=((<UnknAnalyzer>, 'жы'),))\n",
      "Parse(word='шы', tag=OpencorporaTag('UNKN'), normal_form='шы', score=1.0, methods_stack=((<UnknAnalyzer>, 'шы'),))\n",
      "Parse(word='бэ', tag=OpencorporaTag('UNKN'), normal_form='бэ', score=1.0, methods_stack=((<UnknAnalyzer>, 'бэ'),))\n",
      "Parse(word='вэ', tag=OpencorporaTag('UNKN'), normal_form='вэ', score=1.0, methods_stack=((<UnknAnalyzer>, 'вэ'),))\n",
      "Parse(word='ол', tag=OpencorporaTag('UNKN'), normal_form='ол', score=1.0, methods_stack=((<UnknAnalyzer>, 'ол'),))\n",
      "Parse(word='хав', tag=OpencorporaTag('UNKN'), normal_form='хав', score=1.0, methods_stack=((<UnknAnalyzer>, 'хав'),))\n",
      "Parse(word='ю', tag=OpencorporaTag('UNKN'), normal_form='ю', score=1.0, methods_stack=((<UnknAnalyzer>, 'ю'),))\n",
      "Parse(word='ё', tag=OpencorporaTag('UNKN'), normal_form='ё', score=1.0, methods_stack=((<UnknAnalyzer>, 'ё'),))\n",
      "Parse(word='ево', tag=OpencorporaTag('UNKN'), normal_form='ево', score=1.0, methods_stack=((<UnknAnalyzer>, 'ево'),))\n",
      "Parse(word='мэй', tag=OpencorporaTag('UNKN'), normal_form='мэй', score=1.0, methods_stack=((<UnknAnalyzer>, 'мэй'),))\n"
     ]
    },
    {
     "name": "stderr",
     "output_type": "stream",
     "text": [
      "2017-05-10 21:59:10,880 : INFO : loading projection weights from c:/data/ruscorpora_1_300_10.bin.gz\n"
     ]
    },
    {
     "name": "stdout",
     "output_type": "stream",
     "text": [
      "Parse(word='рёк', tag=OpencorporaTag('UNKN'), normal_form='рёк', score=1.0, methods_stack=((<UnknAnalyzer>, 'рёк'),))\n",
      "Parse(word='ево', tag=OpencorporaTag('UNKN'), normal_form='ево', score=1.0, methods_stack=((<UnknAnalyzer>, 'ево'),))\n",
      "loading w2v_model...\n"
     ]
    },
    {
     "name": "stderr",
     "output_type": "stream",
     "text": [
      "2017-05-10 21:59:19,177 : INFO : loaded (184973, 300) matrix from c:/data/ruscorpora_1_300_10.bin.gz\n"
     ]
    },
    {
     "name": "stdout",
     "output_type": "stream",
     "text": [
      "word2vec model 'c:/data/ruscorpora_1_300_10.bin.gz' loaded\n",
      "model is compiled\n"
     ]
    }
   ],
   "source": [
    "from poems_model import PoemsModel\n",
    "\n",
    "pm = PoemsModel()\n",
    "\n",
    "poems_file = './data/poems.txt'\n",
    "# poems_file = './data/poems_33000.txt'\n",
    "w2v_file = 'c:/data/ruscorpora_1_300_10.bin.gz'\n",
    "\n",
    "pm.compile(poems_file, w2v_file)"
   ]
  },
  {
   "cell_type": "code",
   "execution_count": 3,
   "metadata": {
    "collapsed": true,
    "scrolled": true
   },
   "outputs": [],
   "source": [
    "pm.write('./data/poems_model.pickle')\n",
    "# pm.write('./data/poems_model_big.pickle')"
   ]
  },
  {
   "cell_type": "code",
   "execution_count": 4,
   "metadata": {
    "scrolled": true
   },
   "outputs": [
    {
     "name": "stdout",
     "output_type": "stream",
     "text": [
      "reading pickle poems model...\n",
      "vectorizing model...\n",
      "model is loaded\n"
     ]
    },
    {
     "data": {
      "text/plain": [
       "['дрожал у адвоката голос\\nрыдали судьи плакал зал\\nи подсудимый сам поверил\\nне крал\\n',\n",
       " 'нет в шоколаде шоколада\\nдавно нет мяса в колбасе\\nстановится чуть чуть тревожно\\nа вдруг и в людях нет людей\\n',\n",
       " 'лишает сна срывает крышу\\nи переводит речь на мат\\nнезапихуемость идеи\\nв формат\\n',\n",
       " 'в двенадцать лет ты на уроке\\nв стихе обязан понимать\\nвсе что в депрессии с похмелья\\nпоэту в голову пришло\\n',\n",
       " 'я вежлив и предельно скромен\\nумеренно духовен мил\\nнеглуп имею чувство такта\\nблагослови меня господь\\n',\n",
       " 'я пью ты пьёшь мы пьём вы пьёте\\nспрягал глагол уныло класс\\nа получился о россии\\nрассказ\\n',\n",
       " 'о подозрительных предметах\\nя машинисту сообщил\\nдва бильбоке одна клепсидра\\nжабо спирограф и бювар\\n',\n",
       " 'приём диспетчер что нам делать\\nу нас заклинило шасси\\nспокойно повторяйте иже\\nеси\\n',\n",
       " 'без ложной скромности замечу\\nя гениальный человек\\nа то что ничего не создал\\nтак я был занят и болел\\n',\n",
       " 'я ненавижу вас так долго\\nчто в принципе уже забыл\\nи почему вас ненавижу\\nи кто вы собственно такой\\n']"
      ]
     },
     "execution_count": 4,
     "metadata": {},
     "output_type": "execute_result"
    }
   ],
   "source": [
    "pm.poems = []\n",
    "pm.read('./data/poems_model.pickle')\n",
    "#pm.read('./data/poems_model_big.pickle')\n",
    "pm.poems[:10]"
   ]
  },
  {
   "cell_type": "markdown",
   "metadata": {},
   "source": [
    "## Load"
   ]
  },
  {
   "cell_type": "code",
   "execution_count": 2,
   "metadata": {
    "scrolled": true
   },
   "outputs": [
    {
     "name": "stderr",
     "output_type": "stream",
     "text": [
      "2017-05-10 21:59:41,790 : INFO : loading projection weights from c:/data/ruscorpora_1_300_10.bin.gz\n"
     ]
    },
    {
     "name": "stdout",
     "output_type": "stream",
     "text": [
      "loading w2v_model...\n"
     ]
    },
    {
     "name": "stderr",
     "output_type": "stream",
     "text": [
      "2017-05-10 21:59:50,101 : INFO : loaded (184973, 300) matrix from c:/data/ruscorpora_1_300_10.bin.gz\n"
     ]
    },
    {
     "name": "stdout",
     "output_type": "stream",
     "text": [
      "word2vec model 'c:/data/ruscorpora_1_300_10.bin.gz' loaded\n",
      "reading pickle poems model...\n",
      "vectorizing model...\n",
      "model is loaded\n"
     ]
    }
   ],
   "source": [
    "from poems_model import PoemsModel\n",
    "\n",
    "poems_data_file = './data/poems_model_big.pickle'\n",
    "w2v_file = 'c:/data/ruscorpora_1_300_10.bin.gz'\n",
    "\n",
    "pm = PoemsModel(poems_data_file, w2v_file)\n"
   ]
  },
  {
   "cell_type": "code",
   "execution_count": 26,
   "metadata": {
    "scrolled": true
   },
   "outputs": [
    {
     "data": {
      "text/plain": [
       "['ребята мне совсем хреново\\nдрузьям аркадий говорит\\nдрузья качают головами\\nи тычут палочкой в нево\\n',\n",
       " 'придя домой семён наткнулся\\nна лужу серной кислоты\\nскорее вытирать скорее\\nпока к соседям не прожгло\\n',\n",
       " 'двенадцать сигарет без фильтра\\nи ты уже не человек\\nа помесь трупа с вертолетом\\nвлетающим в густой туман\\n',\n",
       " 'мы рождены пустым сосудом\\nи наполняемся за жизнь\\nа иисус рожденный полным\\nвсе жизнь тихонько протекал\\n',\n",
       " 'давай теперь ты будешь кофе\\nа я как сахарный песок\\nживым мерцающим потоком\\nв тебе всецело растворюсь\\n',\n",
       " 'когда я стал половозрелый\\nя встретил девушку одну\\nи предъявил ей между прочим\\nполовоззрения свои\\n',\n",
       " 'правительство нелегитимно\\nкричит народ на площадях\\nно только путин знает правду\\nнелегитимен сам народ\\n',\n",
       " 'в известняке петрова сердца\\nзашевелился трилобит\\nпо телу гул прошел волною\\nкоснулся пяток и затих\\n',\n",
       " 'я не люблю мужчин с цветами\\nони мне причиняют боль\\nкогда счастливою походкой\\nидут куда то не ко мне\\n',\n",
       " 'ещё пятнадцать километров\\nи ты увидишь океан\\nно чтоб эффект был максимальным\\nглаза пока не открывай\\n']"
      ]
     },
     "execution_count": 26,
     "metadata": {},
     "output_type": "execute_result"
    }
   ],
   "source": [
    "pm.poems[:10]"
   ]
  },
  {
   "cell_type": "code",
   "execution_count": 46,
   "metadata": {
    "scrolled": true
   },
   "outputs": [
    {
     "name": "stdout",
     "output_type": "stream",
     "text": [
      "Pretty printing has been turned ON\n"
     ]
    }
   ],
   "source": [
    "%pprint\n",
    "# [(poem.replace('\\n', ' '), sim) for poem, sim in poems]"
   ]
  },
  {
   "cell_type": "code",
   "execution_count": 2,
   "metadata": {
    "scrolled": true
   },
   "outputs": [
    {
     "name": "stdout",
     "output_type": "stream",
     "text": [
      "я чёрный маг владею миром\n",
      "брюнет высокий тридцать лет\n",
      "ищу с фантазией подругу\n",
      "чтоб вместе в вечности царить\n",
      "\t0.8646383367254595\n",
      "там кант вольтер и фридрих ницше\n",
      "там жан поль сартр и зигмунд фрейд\n",
      "а мы органику листаем\n",
      "и в философии дубы\n",
      "\t0.833004909321504\n",
      "я ненавижу христианство\n",
      "буддизм ислам иудаизм\n",
      "язычество и джорджа буша\n",
      "люблю пельмени с судаком\n",
      "\t0.8101591110229492\n",
      "святейший патриарх московский\n",
      "владыка царь всея руси\n",
      "король всех княжеств князь всех вотчин\n",
      "мэр губернатор президент\n",
      "\t0.7973235147103934\n",
      "давай откроем книгу жизни\n",
      "в ней интересного полно\n",
      "год выпуска тираж издатель\n",
      "редактор автор рецензент\n",
      "\t0.7830623216913177\n",
      "поэт поэтому поэтом \n",
      "был назван что писал стихи \n",
      "слова не однокоренные \n",
      "но смысл они передают\n",
      "\t0.7778656868810945\n",
      "не обращали ль вы вниманье \n",
      "что если человек масон \n",
      "то он ученый очень крупный \n",
      "поэт политик журналист\n",
      "\t0.7745715141296386\n",
      "наука жить почти бессильна\n",
      "перед искусством умирать\n",
      "сказал печально математик\n",
      "и разложился в ряд фурье\n",
      "\t0.7739194493281941\n",
      "геннадий произнёс заклятье\n",
      "слюною плюнул колдовской\n",
      "и волшебство любви исчезло\n",
      "сменившись магией войны\n",
      "\t0.7733073234558105\n",
      "так по японски живописна\n",
      "на огороде бузина\n",
      "что дядька в киеве должно быть\n",
      "поэт художник и буддист\n",
      "\t0.7574903077165105\n"
     ]
    }
   ],
   "source": [
    "for poem in pm.similar_poems('творчество киевского мага и мистика', topn=10): \n",
    "    print(f'{poem[0]}\\t{poem[1]}')"
   ]
  },
  {
   "cell_type": "code",
   "execution_count": 3,
   "metadata": {
    "scrolled": true
   },
   "outputs": [
    {
     "name": "stdout",
     "output_type": "stream",
     "text": [
      "веселье радость безмятежность\n",
      "любовь безудержная страсть\n",
      "разумность сдержанная похоть\n",
      "задумчивость надежда страх\n",
      "\t0.298699688911438\n",
      "проста как боль легка как правда\n",
      "неосязаема как страх\n",
      "скучна как мир пуста как память\n",
      "твоя несбывшаяся жизнь\n",
      "\t0.2587770765631143\n",
      "между мирами жизни смерти\n",
      "есть грань тончайшая как лист\n",
      "основ основа мир двумерный\n",
      "рожденья смерти сна и грёз\n",
      "\t0.2543415307998657\n",
      "нам код коррекции ошибок\n",
      "записан в глубину души\n",
      "чтоб мы могли картину мира\n",
      "из ложных данных извлекать\n",
      "\t0.2463622343458551\n",
      "сказал нет бога кроме бога\n",
      "и пушкин был пророк его\n",
      "а то что с детства вам внушали\n",
      "все бред обман и опиум\n",
      "\t0.24113795204938893\n",
      "илье надежда изменила\n",
      "один нескромный бросив взгляд\n",
      "всё восприятие пространства\n",
      "людей и самого себя\n",
      "\t0.2411146305129373\n",
      "никто давно не верит в сказки\n",
      "про бога и грядущий рай\n",
      "вот апокалипсис немного\n",
      "ещё способен нас увлечь\n",
      "\t0.24087915624377793\n",
      "быть может небыло олега\n",
      "оксана шепчет зульфие\n",
      "а был какойнибуть евгений\n",
      "мечты гомункулус обман\n",
      "\t0.24083236904029803\n",
      "давайте верить в справедливость\n",
      "как верят в бога в чудеса\n",
      "или в какую то другую\n",
      "несуществующую хрень\n",
      "\t0.23906973819990882\n",
      "живя в несовершенном мире\n",
      "несовершенный человек\n",
      "всю жизнь надеется наивно\n",
      "на совершенную любовь\n",
      "\t0.23879228222521537\n"
     ]
    }
   ],
   "source": [
    "for poem in pm.similar_poems('иллюзия', topn=10): \n",
    "    print(f'{poem[0]}\\t{poem[1]}')"
   ]
  }
 ],
 "metadata": {
  "kernelspec": {
   "display_name": "Python 3",
   "language": "python",
   "name": "python3"
  },
  "language_info": {
   "codemirror_mode": {
    "name": "ipython",
    "version": 3
   },
   "file_extension": ".py",
   "mimetype": "text/x-python",
   "name": "python",
   "nbconvert_exporter": "python",
   "pygments_lexer": "ipython3",
   "version": "3.6.1"
  }
 },
 "nbformat": 4,
 "nbformat_minor": 1
}
