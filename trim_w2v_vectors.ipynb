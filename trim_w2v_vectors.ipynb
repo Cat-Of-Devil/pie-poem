{
 "cells": [
  {
   "cell_type": "markdown",
   "metadata": {},
   "source": [
    "# Trim Vectors"
   ]
  },
  {
   "cell_type": "code",
   "execution_count": 3,
   "metadata": {},
   "outputs": [
    {
     "name": "stderr",
     "output_type": "stream",
     "text": [
      "2017-05-27 22:35:45,321 : INFO : loading projection weights from c:/data/ruscorpora_1_300_10.bin.gz\n"
     ]
    },
    {
     "name": "stdout",
     "output_type": "stream",
     "text": [
      "loading w2v_model...\n"
     ]
    },
    {
     "name": "stderr",
     "output_type": "stream",
     "text": [
      "2017-05-27 22:35:52,718 : INFO : loaded (161301, 300) matrix from c:/data/ruscorpora_1_300_10.bin.gz\n"
     ]
    },
    {
     "name": "stdout",
     "output_type": "stream",
     "text": [
      "word2vec model 'c:/data/ruscorpora_1_300_10.bin.gz' loaded\n",
      "reading pickle poems model...\n",
      "vectorizing model...\n",
      "model is loaded\n"
     ]
    }
   ],
   "source": [
    "# load models\n",
    "\n",
    "from poems_model import PoemsModel\n",
    "\n",
    "poems_data_file = './data/poems_model.pickle'\n",
    "w2v_file = 'c:/data/ruscorpora_1_300_10.bin.gz'\n",
    "\n",
    "pm = PoemsModel(poems_data_file, w2v_file)"
   ]
  },
  {
   "cell_type": "code",
   "execution_count": 95,
   "metadata": {},
   "outputs": [
    {
     "name": "stderr",
     "output_type": "stream",
     "text": [
      "2017-05-27 22:34:15,987 : INFO : Loading dictionaries from C:\\Anaconda3\\lib\\site-packages\\pymorphy2_dicts\\data\n",
      "2017-05-27 22:34:16,056 : INFO : format: 2.4, revision: 393442, updated: 2015-01-17T16:03:56.586168\n"
     ]
    }
   ],
   "source": [
    "# reload PoemsModel class\n",
    "import sys\n",
    "del sys.modules['poems_model']\n",
    "from poems_model import PoemsModel"
   ]
  },
  {
   "cell_type": "code",
   "execution_count": null,
   "metadata": {
    "collapsed": true
   },
   "outputs": [],
   "source": [
    "import numpy as np\n",
    "from numpy import linalg as la\n",
    "\n",
    "%timeit(np.sqrt((pm.w2v.syn0[0] ** 2).sum()))\n",
    "%timeit(la.norm(pm.w2v.syn0[0]))\n",
    "\n",
    "%timeit(la.norm(pm.w2v.syn0, axis=1))\n"
   ]
  },
  {
   "cell_type": "code",
   "execution_count": 24,
   "metadata": {
    "collapsed": true
   },
   "outputs": [],
   "source": [
    "from gensim.models.keyedvectors import KeyedVectors\n",
    "import numpy as np\n",
    "from numpy import linalg as la \n",
    "\n",
    "def trim_by_suffix(w2v: KeyedVectors, suffix='', factor=1.0):\n",
    "    if suffix:\n",
    "        for word in w2v.vocab:\n",
    "            if suffix in word:\n",
    "                v_index = w2v.vocab[word].index\n",
    "                w2v.syn0[v_index] *= factor\n",
    "\n",
    "                \n",
    "def trim_vectors_by_vocab(pm: PoemsModel, factor=1.0):\n",
    "    for word in pm.w2v.vocab:\n",
    "        if not word in pm.vocab:\n",
    "            v_index = pm.w2v.vocab[word].index\n",
    "            pm.w2v.syn0[v_index] *= factor\n",
    "\n",
    "def trim_vectors_not_in_list(pm: PoemsModel, focus_words: list, factor=1.0):\n",
    "    for word in pm.w2v.vocab:\n",
    "        if not word in focus_words:\n",
    "            v_index = pm.w2v.vocab[word].index\n",
    "            pm.w2v.syn0[v_index] *= factor\n",
    "    \n",
    "\n",
    "def normalize_vectors(w2v: KeyedVectors):\n",
    "    for i in range(w2v.syn0.shape[0]):\n",
    "        w2v.syn0[i] /= np.sqrt((w2v.syn0[i] ** 2).sum())\n"
   ]
  },
  {
   "cell_type": "code",
   "execution_count": 34,
   "metadata": {},
   "outputs": [
    {
     "data": {
      "text/plain": [
       "array([ 1.        ,  1.00000012,  0.70000005, ...,  1.        ,\n",
       "        1.        ,  0.69999999], dtype=float32)"
      ]
     },
     "execution_count": 34,
     "metadata": {},
     "output_type": "execute_result"
    }
   ],
   "source": [
    "trim_by_suffix(pm.w2v, suffix='_VERB', factor=0.7)\n",
    "trim_by_suffix(pm.w2v, suffix='_ADJ', factor=0.5)\n",
    "la.norm(pm.w2v.syn0, axis=1)"
   ]
  },
  {
   "cell_type": "code",
   "execution_count": 13,
   "metadata": {},
   "outputs": [
    {
     "data": {
      "text/plain": [
       "array([ 1.        ,  0.99999988,  0.25      , ...,  1.        ,\n",
       "        0.99999994,  0.25      ], dtype=float32)"
      ]
     },
     "execution_count": 13,
     "metadata": {},
     "output_type": "execute_result"
    }
   ],
   "source": [
    "trim_vectors_by_vocab(pm, factor=0.7)\n",
    "la.norm(pm.w2v.syn0, axis=1)    "
   ]
  },
  {
   "cell_type": "code",
   "execution_count": 43,
   "metadata": {},
   "outputs": [
    {
     "data": {
      "text/plain": [
       "array([ 0.69999999,  0.70000005,  0.70000005, ...,  0.69999999,\n",
       "        0.69999999,  1.        ], dtype=float32)"
      ]
     },
     "execution_count": 43,
     "metadata": {},
     "output_type": "execute_result"
    }
   ],
   "source": [
    "query = 'иллюзия'\n",
    "\n",
    "words = [w[0] for w in pm.most_similar(query, topn=10000)]\n",
    "\n",
    "trim_vectors_not_in_list(pm, words, factor=0.7)\n",
    "la.norm(pm.w2v.syn0, axis=1)    "
   ]
  },
  {
   "cell_type": "code",
   "execution_count": 45,
   "metadata": {},
   "outputs": [
    {
     "data": {
      "text/plain": [
       "array([ 1.        ,  0.99999994,  0.99999994, ...,  1.        ,\n",
       "        1.        ,  1.        ], dtype=float32)"
      ]
     },
     "execution_count": 45,
     "metadata": {},
     "output_type": "execute_result"
    }
   ],
   "source": [
    "normalize_vectors(pm.w2v)\n",
    "la.norm(pm.w2v.syn0, axis=1)"
   ]
  },
  {
   "cell_type": "code",
   "execution_count": null,
   "metadata": {},
   "outputs": [],
   "source": [
    "pm.most_similar(query, topn=50)"
   ]
  },
  {
   "cell_type": "code",
   "execution_count": 46,
   "metadata": {},
   "outputs": [
    {
     "name": "stdout",
     "output_type": "stream",
     "text": [
      "проста как боль легка как правда\n",
      "неосязаема как страх\n",
      "скучна как мир пуста как память\n",
      "твоя несбывшаяся жизнь\n",
      "\t0.2587770539915357\n",
      "нам код коррекции ошибок\n",
      "записан в глубину души\n",
      "чтоб мы могли картину мира\n",
      "из ложных данных извлекать\n",
      "\t0.2463622117742765\n",
      "никто давно не верит в сказки\n",
      "про бога и грядущий рай\n",
      "вот апокалипсис немного\n",
      "ещё способен нас увлечь\n",
      "\t0.24087915624377793\n",
      "давайте верить в справедливость\n",
      "как верят в бога в чудеса\n",
      "или в какую то другую\n",
      "несуществующую хрень\n",
      "\t0.23906972380797495\n",
      "в альтернативном мире люди\n",
      "не умирают никогда\n",
      "и экзистенциально верят\n",
      "в отсутствие альтернатив\n",
      "\t0.237362495795455\n",
      "есть сверхспособности и в боли\n",
      "способность есть способность спать\n",
      "чудовищная ясность мысли\n",
      "невосприимчивость к дождю\n",
      "\t0.23231856011251084\n",
      "я идиот а это значит\n",
      "весь мир красив и разноцветн\n",
      "все люди мудры и прекрасны\n",
      "а все кто умерли в раю\n",
      "\t0.23190658801215316\n",
      "куда нас сон всегда приводит\n",
      "в унылый серый плоский мир\n",
      "где нет возможности падений\n",
      "и творческих альтернатив\n",
      "\t0.23051201112138486\n",
      "в своём трёхмерном жалком мире \n",
      "что ты аркадий можешь знать\n",
      "о ритме линий точек пятен \n",
      "и о бескрайности холста\n",
      "\t0.2274697779386808\n",
      "господь не верит в николая\n",
      "нет доказательства што он\n",
      "на этом свете существует\n",
      "и может на него влиять \n",
      "\t0.22465197082852537\n"
     ]
    }
   ],
   "source": [
    "for poem in pm.similar_poems(query, topn=10): \n",
    "    print(f'{poem[0]}\\t{poem[1]}')"
   ]
  }
 ],
 "metadata": {
  "kernelspec": {
   "display_name": "Python 3",
   "language": "python",
   "name": "python3"
  },
  "language_info": {
   "codemirror_mode": {
    "name": "ipython",
    "version": 3
   },
   "file_extension": ".py",
   "mimetype": "text/x-python",
   "name": "python",
   "nbconvert_exporter": "python",
   "pygments_lexer": "ipython3",
   "version": "3.6.1"
  }
 },
 "nbformat": 4,
 "nbformat_minor": 2
}
